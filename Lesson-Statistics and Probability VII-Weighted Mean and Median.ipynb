{
 "cells": [
  {
   "cell_type": "markdown",
   "metadata": {},
   "source": [
    "# Lesson - Statistics and Probability VII: Weighted Mean and the Median\n"
   ]
  },
  {
   "cell_type": "code",
   "execution_count": 1,
   "metadata": {},
   "outputs": [],
   "source": [
    "import pandas as pd\n",
    "import numpy as np\n",
    "import matplotlib.pyplot as plt\n",
    "import seaborn as sns\n",
    "%matplotlib inline\n",
    "# Setting pandas display options for large data\n",
    "pd.options.display.max_rows = 200\n",
    "pd.options.display.max_columns = 100"
   ]
  },
  {
   "cell_type": "code",
   "execution_count": 2,
   "metadata": {
    "scrolled": true
   },
   "outputs": [
    {
     "name": "stdout",
     "output_type": "stream",
     "text": [
      "<class 'pandas.core.frame.DataFrame'>\n",
      "RangeIndex: 2930 entries, 0 to 2929\n",
      "Data columns (total 82 columns):\n",
      " #   Column           Non-Null Count  Dtype  \n",
      "---  ------           --------------  -----  \n",
      " 0   Order            2930 non-null   int64  \n",
      " 1   PID              2930 non-null   int64  \n",
      " 2   MS SubClass      2930 non-null   int64  \n",
      " 3   MS Zoning        2930 non-null   object \n",
      " 4   Lot Frontage     2440 non-null   float64\n",
      " 5   Lot Area         2930 non-null   int64  \n",
      " 6   Street           2930 non-null   object \n",
      " 7   Alley            198 non-null    object \n",
      " 8   Lot Shape        2930 non-null   object \n",
      " 9   Land Contour     2930 non-null   object \n",
      " 10  Utilities        2930 non-null   object \n",
      " 11  Lot Config       2930 non-null   object \n",
      " 12  Land Slope       2930 non-null   object \n",
      " 13  Neighborhood     2930 non-null   object \n",
      " 14  Condition 1      2930 non-null   object \n",
      " 15  Condition 2      2930 non-null   object \n",
      " 16  Bldg Type        2930 non-null   object \n",
      " 17  House Style      2930 non-null   object \n",
      " 18  Overall Qual     2930 non-null   int64  \n",
      " 19  Overall Cond     2930 non-null   int64  \n",
      " 20  Year Built       2930 non-null   int64  \n",
      " 21  Year Remod/Add   2930 non-null   int64  \n",
      " 22  Roof Style       2930 non-null   object \n",
      " 23  Roof Matl        2930 non-null   object \n",
      " 24  Exterior 1st     2930 non-null   object \n",
      " 25  Exterior 2nd     2930 non-null   object \n",
      " 26  Mas Vnr Type     2907 non-null   object \n",
      " 27  Mas Vnr Area     2907 non-null   float64\n",
      " 28  Exter Qual       2930 non-null   object \n",
      " 29  Exter Cond       2930 non-null   object \n",
      " 30  Foundation       2930 non-null   object \n",
      " 31  Bsmt Qual        2850 non-null   object \n",
      " 32  Bsmt Cond        2850 non-null   object \n",
      " 33  Bsmt Exposure    2847 non-null   object \n",
      " 34  BsmtFin Type 1   2850 non-null   object \n",
      " 35  BsmtFin SF 1     2929 non-null   float64\n",
      " 36  BsmtFin Type 2   2849 non-null   object \n",
      " 37  BsmtFin SF 2     2929 non-null   float64\n",
      " 38  Bsmt Unf SF      2929 non-null   float64\n",
      " 39  Total Bsmt SF    2929 non-null   float64\n",
      " 40  Heating          2930 non-null   object \n",
      " 41  Heating QC       2930 non-null   object \n",
      " 42  Central Air      2930 non-null   object \n",
      " 43  Electrical       2929 non-null   object \n",
      " 44  1st Flr SF       2930 non-null   int64  \n",
      " 45  2nd Flr SF       2930 non-null   int64  \n",
      " 46  Low Qual Fin SF  2930 non-null   int64  \n",
      " 47  Gr Liv Area      2930 non-null   int64  \n",
      " 48  Bsmt Full Bath   2928 non-null   float64\n",
      " 49  Bsmt Half Bath   2928 non-null   float64\n",
      " 50  Full Bath        2930 non-null   int64  \n",
      " 51  Half Bath        2930 non-null   int64  \n",
      " 52  Bedroom AbvGr    2930 non-null   int64  \n",
      " 53  Kitchen AbvGr    2930 non-null   int64  \n",
      " 54  Kitchen Qual     2930 non-null   object \n",
      " 55  TotRms AbvGrd    2930 non-null   object \n",
      " 56  Functional       2930 non-null   object \n",
      " 57  Fireplaces       2930 non-null   int64  \n",
      " 58  Fireplace Qu     1508 non-null   object \n",
      " 59  Garage Type      2773 non-null   object \n",
      " 60  Garage Yr Blt    2771 non-null   float64\n",
      " 61  Garage Finish    2771 non-null   object \n",
      " 62  Garage Cars      2929 non-null   float64\n",
      " 63  Garage Area      2929 non-null   float64\n",
      " 64  Garage Qual      2771 non-null   object \n",
      " 65  Garage Cond      2771 non-null   object \n",
      " 66  Paved Drive      2930 non-null   object \n",
      " 67  Wood Deck SF     2930 non-null   int64  \n",
      " 68  Open Porch SF    2930 non-null   int64  \n",
      " 69  Enclosed Porch   2930 non-null   int64  \n",
      " 70  3Ssn Porch       2930 non-null   int64  \n",
      " 71  Screen Porch     2930 non-null   int64  \n",
      " 72  Pool Area        2930 non-null   int64  \n",
      " 73  Pool QC          13 non-null     object \n",
      " 74  Fence            572 non-null    object \n",
      " 75  Misc Feature     106 non-null    object \n",
      " 76  Misc Val         2930 non-null   int64  \n",
      " 77  Mo Sold          2930 non-null   int64  \n",
      " 78  Yr Sold          2930 non-null   int64  \n",
      " 79  Sale Type        2930 non-null   object \n",
      " 80  Sale Condition   2930 non-null   object \n",
      " 81  SalePrice        2930 non-null   int64  \n",
      "dtypes: float64(11), int64(27), object(44)\n",
      "memory usage: 1.8+ MB\n",
      "None\n"
     ]
    }
   ],
   "source": [
    "# Explore AmesHousing1.txt dataset\n",
    "houses = pd.read_csv('AmesHousing_1.txt', sep = '\\t')\n",
    "print(houses.info())"
   ]
  },
  {
   "cell_type": "code",
   "execution_count": 3,
   "metadata": {
    "scrolled": true
   },
   "outputs": [
    {
     "data": {
      "text/plain": [
       "180796.0600682594"
      ]
     },
     "execution_count": 3,
     "metadata": {},
     "output_type": "execute_result"
    }
   ],
   "source": [
    "# mean house prices\n",
    "mean = (houses['SalePrice'].mean())\n",
    "mean"
   ]
  },
  {
   "cell_type": "code",
   "execution_count": 4,
   "metadata": {
    "scrolled": true
   },
   "outputs": [
    {
     "data": {
      "text/html": [
       "<div>\n",
       "<style scoped>\n",
       "    .dataframe tbody tr th:only-of-type {\n",
       "        vertical-align: middle;\n",
       "    }\n",
       "\n",
       "    .dataframe tbody tr th {\n",
       "        vertical-align: top;\n",
       "    }\n",
       "\n",
       "    .dataframe thead th {\n",
       "        text-align: right;\n",
       "    }\n",
       "</style>\n",
       "<table border=\"1\" class=\"dataframe\">\n",
       "  <thead>\n",
       "    <tr style=\"text-align: right;\">\n",
       "      <th></th>\n",
       "      <th>SalePrice</th>\n",
       "    </tr>\n",
       "    <tr>\n",
       "      <th>Yr Sold</th>\n",
       "      <th></th>\n",
       "    </tr>\n",
       "  </thead>\n",
       "  <tbody>\n",
       "    <tr>\n",
       "      <th>2006</th>\n",
       "      <td>181761.648000</td>\n",
       "    </tr>\n",
       "    <tr>\n",
       "      <th>2007</th>\n",
       "      <td>185138.207493</td>\n",
       "    </tr>\n",
       "    <tr>\n",
       "      <th>2008</th>\n",
       "      <td>178841.750804</td>\n",
       "    </tr>\n",
       "    <tr>\n",
       "      <th>2009</th>\n",
       "      <td>181404.567901</td>\n",
       "    </tr>\n",
       "    <tr>\n",
       "      <th>2010</th>\n",
       "      <td>172597.598240</td>\n",
       "    </tr>\n",
       "  </tbody>\n",
       "</table>\n",
       "</div>"
      ],
      "text/plain": [
       "             SalePrice\n",
       "Yr Sold               \n",
       "2006     181761.648000\n",
       "2007     185138.207493\n",
       "2008     178841.750804\n",
       "2009     181404.567901\n",
       "2010     172597.598240"
      ]
     },
     "execution_count": 4,
     "metadata": {},
     "output_type": "execute_result"
    }
   ],
   "source": [
    "# mean prices by year\n",
    "houses_per_year = pd.DataFrame(houses.groupby('Yr Sold')['SalePrice'].mean())   \n",
    "houses_per_year"
   ]
  },
  {
   "cell_type": "code",
   "execution_count": 5,
   "metadata": {},
   "outputs": [
    {
     "name": "stdout",
     "output_type": "stream",
     "text": [
      "179948.75448767154\n",
      "847.3055805878539\n"
     ]
    }
   ],
   "source": [
    "# Calculate mean basedon annual means\n",
    "new_mean = houses_per_year.SalePrice.mean()\n",
    "print(new_mean)\n",
    "difference = mean - new_mean\n",
    "print(difference)"
   ]
  },
  {
   "cell_type": "code",
   "execution_count": 6,
   "metadata": {
    "scrolled": true
   },
   "outputs": [
    {
     "data": {
      "text/html": [
       "<div>\n",
       "<style scoped>\n",
       "    .dataframe tbody tr th:only-of-type {\n",
       "        vertical-align: middle;\n",
       "    }\n",
       "\n",
       "    .dataframe tbody tr th {\n",
       "        vertical-align: top;\n",
       "    }\n",
       "\n",
       "    .dataframe thead th {\n",
       "        text-align: right;\n",
       "    }\n",
       "</style>\n",
       "<table border=\"1\" class=\"dataframe\">\n",
       "  <thead>\n",
       "    <tr style=\"text-align: right;\">\n",
       "      <th></th>\n",
       "      <th>SalePrice</th>\n",
       "      <th>houses_sold</th>\n",
       "    </tr>\n",
       "    <tr>\n",
       "      <th>Yr Sold</th>\n",
       "      <th></th>\n",
       "      <th></th>\n",
       "    </tr>\n",
       "  </thead>\n",
       "  <tbody>\n",
       "    <tr>\n",
       "      <th>2006</th>\n",
       "      <td>181761.648000</td>\n",
       "      <td>625</td>\n",
       "    </tr>\n",
       "    <tr>\n",
       "      <th>2007</th>\n",
       "      <td>185138.207493</td>\n",
       "      <td>694</td>\n",
       "    </tr>\n",
       "    <tr>\n",
       "      <th>2008</th>\n",
       "      <td>178841.750804</td>\n",
       "      <td>622</td>\n",
       "    </tr>\n",
       "    <tr>\n",
       "      <th>2009</th>\n",
       "      <td>181404.567901</td>\n",
       "      <td>648</td>\n",
       "    </tr>\n",
       "    <tr>\n",
       "      <th>2010</th>\n",
       "      <td>172597.598240</td>\n",
       "      <td>341</td>\n",
       "    </tr>\n",
       "  </tbody>\n",
       "</table>\n",
       "</div>"
      ],
      "text/plain": [
       "             SalePrice  houses_sold\n",
       "Yr Sold                            \n",
       "2006     181761.648000          625\n",
       "2007     185138.207493          694\n",
       "2008     178841.750804          622\n",
       "2009     181404.567901          648\n",
       "2010     172597.598240          341"
      ]
     },
     "execution_count": 6,
     "metadata": {},
     "output_type": "execute_result"
    }
   ],
   "source": [
    "# Houses sold per year\n",
    "sold_per_yr = houses.groupby('Yr Sold').size()\n",
    "houses_per_year['houses_sold'] = sold_per_yr\n",
    "houses_per_year"
   ]
  },
  {
   "cell_type": "markdown",
   "metadata": {},
   "source": [
    "The reason why there is a difference between population mean and new_mean calculated from annual mean is because there is a difference in the number of houses sold per year. While calculating new_mean from annual mean we have given same weight to each year. \n",
    "\n",
    "To compute the correct overall mean, we need to:\n",
    "\n",
    "- Find the sum of prices for each year individually. For instance, 341 houses were sold in 2010 and each house had an average price of approximately $172598. The sum of prices for year 2010 is: \n",
    "\n",
    "$$341 * 172\\ 598 = 58\\ 855\\ 918$$\n",
    "\n",
    "\n",
    "- Add all the sums together.\n",
    "- Divide the final sum by the number of houses sold (not by the number of years) to find the mean sale price per house."
   ]
  },
  {
   "cell_type": "markdown",
   "metadata": {},
   "source": [
    "Below, we:\n",
    "\n",
    "- Using only the data we have in the `houses_per_year data set`, compute the sum of prices for each year.\n",
    "- Add all the sums together.\n",
    "- Divide the final sum by the total number of houses sold. Assign the result to a variable named `weighted_mean`.\n",
    "- Compute again the mean of the SalePrice column in the houses data set. Assign the value to a variable named `mean_original`.\n",
    "- Round each mean value to 10 decimal places to get rid of minor rounding errors and then measure the difference between the two means. Assign the result to a variable named `difference`. If the two means are equal, you should get a difference of 0."
   ]
  },
  {
   "cell_type": "code",
   "execution_count": 7,
   "metadata": {},
   "outputs": [
    {
     "data": {
      "text/plain": [
       "0.0"
      ]
     },
     "execution_count": 7,
     "metadata": {},
     "output_type": "execute_result"
    }
   ],
   "source": [
    "houses_per_year['sum_prices'] = houses_per_year['SalePrice'] * houses_per_year['houses_sold']\n",
    "weighted_mean = round(houses_per_year['sum_prices'].sum() / houses_per_year['houses_sold'].sum(), 10)\n",
    "mean_original = round(houses.SalePrice.mean(), 10)\n",
    "difference = weighted_mean - mean_original\n",
    "difference"
   ]
  },
  {
   "attachments": {
    "image.png": {
     "image/png": "[encoded data removed]"
    }
   },
   "cell_type": "markdown",
   "metadata": {},
   "source": [
    "### The Weighted Mean\n",
    "\n",
    "When we take into account the different weights and compute the mean like we did above, we call that mean the **weighted mean**. \n",
    "\n",
    "Above, we compute the weighted mean for this distribution of sample means:\n",
    "$$\\begin{equation}\n",
    "[ 181761.648, 185138.2074928, 178841.75080386, 181404.56790123, 172597.59824047]\n",
    "\\end{equation}$$\n",
    "\n",
    "We multiplied each value by the number of houses sold in that year to take into account the different weights, then we summed up the products and divided by the total number of houses. This is the distribution of weights we used:\n",
    "$$\\begin{equation}\n",
    "[625, 694, 622, 648, 341]\n",
    "\\end{equation}$$\n",
    "\n",
    "Now if instead of the actual values, we have six unknown prices, which we'll abbreviate with x and six unknown corresponding weights which we'll abbreviate with w:\n",
    "\n",
    "$$\\begin{equation}\n",
    "[x_1, x_2, x_3, x_4, x_5, x_6]\n",
    "\\end{equation}$$\n",
    "$$\\begin{equation}\n",
    "[w_1, w_2, w_3, w_4, w_5, w_6]\n",
    "\\end{equation}$$\n",
    "\n",
    "- To find the weighted mean, we need to:\n",
    "- Multiply each x value (mean house price) by its corresponding weight value w (total number of houses sold)\n",
    "- Add the products together \n",
    "- Divide the sum of the products by the sum of the weights (that is, the total number of houses sold) to get the weighted mean:\n",
    "$$\\begin{equation}\n",
    "weighted\\ mean = \\frac{x_1w_1 + x_2w_2 + x_3w_3 + x_4w_4 + x_5w_5 + x_6w_6}{w_1 + w_2 + w_3 + w_4 + w_5 + w_6}\n",
    "\\end{equation}$$\n",
    "\n",
    "The equation above only works if we have six mean values and six weights. We can easily extend the equation, however, to account for any number of mean values and weights:\n",
    "$$\\begin{equation}\n",
    "[x_1, x_2,\\ ...\\ , x_n]\n",
    "\\end{equation}\n",
    "\n",
    "\\begin{equation}\n",
    "[w_1, w_2,\\ ...\\ , w_n]\n",
    "\\end{equation}\n",
    "\n",
    "\\begin{equation}\n",
    "weighted\\ mean = \\frac{x_1w_1 + x_2w_2 +\\ ...\\ + x_nw_n}{w_1 + w_2 +\\ ...\\ + w_n}\n",
    "\\end{equation}$$\n",
    "\n",
    "This is how the formula above would work if we had three mean values and three weights:\n",
    "\n",
    "![image.png](attachment:image.png)\n",
    "\n",
    "We can also represent weighted mean of a sample using sigma notation:\n",
    "$$\\begin{equation}\n",
    "weighted\\ mean = \\frac{\\displaystyle\\sum_{i = 1}^{n}x_iw_i}{\\displaystyle\\sum_{i = 1}^{n}w_i}\n",
    "\\end{equation}$$\n",
    "\n",
    "For a population, above notation becomes: \n",
    "$$\\begin{equation}\n",
    "\\mu = \\frac{\\displaystyle\\sum_{i = 1}^{N}x_iw_i}{\\displaystyle\\sum_{i = 1}^{N}w_i}\n",
    "\\end{equation}$$\n"
   ]
  },
  {
   "cell_type": "markdown",
   "metadata": {},
   "source": [
    "Below, we will:\n",
    "Write a function that computes the weighted mean for any array of numbers.\n",
    "\n",
    "- The function should take in two arrays: one array containing the mean values, and another array with the corresponding weights.\n",
    "- The function returns the weighted mean.\n",
    "- Use the function to compute the weighted mean for the `Mean Price` column in the `houses_per_year` data set. Assign the result to a variable named `weighted_mean_function`.\n",
    "\n",
    "- Use the `numpy.average()` function to compute the weighted mean for the same Mean Price column. Read the [documentation](https://numpy.org/doc/stable/reference/generated/numpy.average.html) to figure out how to pass in the weights. Assign the result to a variable named `weighted_mean_numpy`.\n",
    "- Compare the two weighted means (the one from function and the one from `np.average()`) using the `==` operator. Round each mean to 10 decimal places to get rid of minor rounding errors. Assign the result to a variable named `equal`.    "
   ]
  },
  {
   "cell_type": "code",
   "execution_count": 8,
   "metadata": {},
   "outputs": [
    {
     "data": {
      "text/plain": [
       "True"
      ]
     },
     "execution_count": 8,
     "metadata": {},
     "output_type": "execute_result"
    }
   ],
   "source": [
    "def weighted_mean (distribution, weights):\n",
    "    weighted_sum = []\n",
    "    for mean, weight in zip(distribution, weights): # zip iterates simultaneously over multiple arrays\n",
    "        weighted_sum.append(mean*weight)\n",
    "    return sum(weighted_sum)/ sum(weights)\n",
    "\n",
    "weighted_mean_function = weighted_mean(houses_per_year.SalePrice, houses_per_year.houses_sold)\n",
    "\n",
    "weighted_mean_numpy = np.average(a= houses_per_year.SalePrice, weights= houses_per_year.houses_sold)\n",
    "\n",
    "equal = weighted_mean_function == weighted_mean_numpy\n",
    "equal\n",
    "    "
   ]
  },
  {
   "cell_type": "markdown",
   "metadata": {},
   "source": [
    "### The Median for Open Ended Distributions\n",
    "\n",
    "There are distributions, however, where it's impossible to compute the mean. Consider for instance the frequency distribution of the `TotRms AbvGrd` variable, which describes the number of rooms above ground:"
   ]
  },
  {
   "cell_type": "code",
   "execution_count": 9,
   "metadata": {},
   "outputs": [
    {
     "name": "stdout",
     "output_type": "stream",
     "text": [
      "6             844\n",
      "7             649\n",
      "5             586\n",
      "8             347\n",
      "4             203\n",
      "9             143\n",
      "10 or more    131\n",
      "3              26\n",
      "2               1\n",
      "Name: TotRms AbvGrd, dtype: int64\n"
     ]
    }
   ],
   "source": [
    "print(houses['TotRms AbvGrd'].value_counts())"
   ]
  },
  {
   "attachments": {
    "image.png": {
     "image/png": "[encoded data removed]"
    }
   },
   "cell_type": "markdown",
   "metadata": {},
   "source": [
    "The lowest boundary of the distribution is well-defined — the lowest value is 2 and no value in the distribution can be lower than that. But the upper boundary is not defined as precisely — the highest value is \"10 or more\" which means that houses can actually have 10, 11, 15, or even more rooms. The upper boundary (\"10 or more\") is thus open, and for this reason we say that the TotRms AbvGrd variable has an **open-ended distribution**.\n",
    "\n",
    "A common workaround is to sort all the values in the distribution in an ascending order and then select the middle value as the most representative value of the distribution. Consider this sample of 5 values from the `TomRms AbvGrd` column:\n",
    "\n",
    "$$\\begin{equation}\n",
    "[10\\ or\\ more,\\ 5,\\ 7,\\ 7,\\ 6]\n",
    "\\end{equation}$$\n",
    "\n",
    "First, we need to order the values in an ascending order:\n",
    "\n",
    "$$\\begin{equation}\n",
    "[5,\\ 6,\\ 7,\\ 7,\\ 10\\ or\\ more]\n",
    "\\end{equation}$$\n",
    "\n",
    "This distribution has five values and the middle one is the third one because it divides the distribution in two halves of equal length. We call this middle value the median, so for this case the median is 7.\n",
    "\n",
    "![image.png](attachment:image.png)"
   ]
  },
  {
   "cell_type": "markdown",
   "metadata": {},
   "source": [
    "Below, we will:\n",
    "- Compute the median for each of the three distributions we already defined in the code editor.\n",
    "- Assign the median of distribution1 to a variable named median1.\n",
    "- Assign the median of distribution2 to a variable named median2.\n",
    "- Assign the median of distribution3 to a variable named median3.\n",
    "- What is the median of the distribution [3, 7, 2, 12]"
   ]
  },
  {
   "cell_type": "code",
   "execution_count": 10,
   "metadata": {},
   "outputs": [],
   "source": [
    "distribution1 = [23, 24, 22, '20 years or lower,', 23, 42, 35]\n",
    "distribution2 = [55, 38, 123, 40, 71]\n",
    "distribution3 = [45, 22, 7, '5 books or lower', 32, 65, '100 books or more']\n",
    "\n",
    "sorted(distribution2)\n",
    "median1 = 23\n",
    "median2 = 55\n",
    "median3 = 32"
   ]
  },
  {
   "attachments": {
    "image.png": {
     "image/png": "[encoded data removed]"
    }
   },
   "cell_type": "markdown",
   "metadata": {},
   "source": [
    "### Distributions for Even number of Values\n",
    "When a distribution has an even number of values, it's not clear which is the middle one. In such a case, the median is the mean of the two middle values. In the below given figure it is (7+7)/2 = 7\n",
    "![image.png](attachment:image.png)\n",
    "\n",
    "This value of 7 is the average value of the distribution above. In statistics, the term \"average\" refers to the most representative value of a distribution. Although it's common to use \"average\" and \"mean\" interchangeably, \"average\" is not restricted to refer only to the mean. Depending on the context, it can also refer to the median or the mode.\n",
    "\n",
    "For the median, there's no widely accepted standard notation — most commonly, both the sample and the population median are simply denoted with the word median. \n",
    "Unlike the mean, the median doesn't have a neat way to be defined algebraically. This is because sorting a distribution in an ascending order and then choosing a middle value or two doesn't involve any arithmetic. The different treatment for odd and even-numbered distributions also poses some theoretical challenges for constructing a single definition."
   ]
  },
  {
   "cell_type": "markdown",
   "metadata": {},
   "source": [
    "Below, we will:\n",
    "\n",
    "Find the median value of the `TotRms AbvGrd` column.\n",
    "\n",
    "- Sort the values in the column in ascending order.\n",
    "\n",
    "- Replace the '10 or more' value with the integer 10 using the `Series.replace()` [method](https://pandas.pydata.org/pandas-docs/stable/reference/api/pandas.Series.replace.html). We do this only for sorting purposes. \n",
    "- To avoid modifying the data in the original data set, make a copy of the column using the `Series.copy()` [method](https://pandas.pydata.org/pandas-docs/stable/reference/api/pandas.Series.copy.html) and save it to a distinct variable.\n",
    "- Convert the column to the int type using the `Series.astype()` method.\n",
    "- Sort the values in ascending order using the `Series.sort_values()` method.\n",
    "- Depending on whether the distribution has an odd or even number of values, find the median and assign it to a variable named `median`."
   ]
  },
  {
   "cell_type": "code",
   "execution_count": 11,
   "metadata": {},
   "outputs": [
    {
     "name": "stdout",
     "output_type": "stream",
     "text": [
      "2930\n"
     ]
    },
    {
     "data": {
      "text/plain": [
       "6.0"
      ]
     },
     "execution_count": 11,
     "metadata": {},
     "output_type": "execute_result"
    }
   ],
   "source": [
    "# Sort values\n",
    "rooms = houses['TotRms AbvGrd'].copy()\n",
    "rooms = rooms.replace(to_replace = '10 or more', value = '10')\n",
    "rooms = rooms.astype(int)\n",
    "rooms_sorted = rooms.sort_values(ascending = True)\n",
    "print(len(rooms_sorted)) # to determine whether even or odd\n",
    "\n",
    "# Find median\n",
    "middle_indices = [len(rooms_sorted)/2 -1, len(rooms_sorted)/2] # determine two middle indices; -1 as index starts from 0\n",
    "\n",
    "middle_values = rooms_sorted.iloc[middle_indices]\n",
    "\n",
    "median = middle_values.mean()\n",
    "median\n"
   ]
  },
  {
   "attachments": {
    "image.png": {
     "image/png": "[encoded data removed]"
    }
   },
   "cell_type": "markdown",
   "metadata": {},
   "source": [
    "### The Median as a Resistant Statistic\n",
    "\n",
    "When we compute the mean, we account equally for each value in the distribution — we sum up all the values in the distribution and then divide the total by the number of values we added. When we compute the median, however, we don't consider equally each value in the distribution. In fact, we only consider the middle value (or the middle two values).\n",
    "\n",
    "This property makes the median more resistant to changes in the data compared to the mean. Let's consider this simple distribution:\n",
    "$\\begin{equation}\n",
    "[2, 3, 5, 5, 10]\n",
    "\\end{equation}$\n",
    "\n",
    "Both the median and the mean of this distribution are 5. Let's change the last value in the distribution from 10 to 1000:\n",
    "$\\begin{equation}\n",
    "[2, 3, 5, 5, 1000]\n",
    "\\end{equation}$\n",
    "\n",
    "The median is still 5, but the mean is now 203. This is because the mean takes into account every value in the distribution, while the median considers only the middle value. Because the median is so resistant to changes in the data, it's classified as a **resistant or robust statistic**.\n",
    "\n",
    "This property makes the median ideal for finding reasonable averages for distributions containing outliers. Consider this distribution of annual salaries for five people in a company:\n",
    "$$\\begin{equation}\n",
    "[20\\ 000,\\ 34\\ 000,\\ 40\\ 000,\\ 45\\ 000,\\ 800\\ 000]\n",
    "\\end{equation}$$\n",
    "\n",
    "The mean is heavily influenced by the person earning 800 000, and it amounts to a value of $187 000, which is not representative for anyone — the first four people earn much less that 187 000, and the last person earns much more. It makes more sense to compute a median value for this distribution, and report that the average salary in the company is 40000, accompanied by an outlier of 800 000.\n",
    "\n",
    "![image.png](attachment:image.png)\n",
    "\n"
   ]
  },
  {
   "cell_type": "markdown",
   "metadata": {},
   "source": [
    "**Exercise**\n",
    "\n",
    "- The `Lot Area` and `SalePrice` variables have outliers. Confirm this information by visualizing the distributions using the `Series.plot.box()` [method](https://pandas.pydata.org/pandas-docs/stable/reference/api/pandas.Series.plot.box.html)\n",
    "\n",
    "- Compute the median and the mean for each of the two variables.\n",
    "- Because the variables are numerical, we can use the `Series.median()` method and the `Series.mean()` method.\n",
    "- For each variable, compute the difference between the mean and the median. \n",
    "- Assign the difference for the `Lot Area` column to a variable named `lotarea_difference`.\n",
    "- Assign the difference for the `SalePrice` column to a variable named `saleprice_difference`.\n",
    "- Inspect the differences."
   ]
  },
  {
   "cell_type": "code",
   "execution_count": 12,
   "metadata": {
    "scrolled": true
   },
   "outputs": [
    {
     "data": {
      "image/png": "[encoded data removed]",
      "text/plain": [
       "<Figure size 432x432 with 1 Axes>"
      ]
     },
     "metadata": {
      "needs_background": "light"
     },
     "output_type": "display_data"
    },
    {
     "data": {
      "text/plain": [
       "<function matplotlib.pyplot.show(*args, **kw)>"
      ]
     },
     "execution_count": 12,
     "metadata": {},
     "output_type": "execute_result"
    },
    {
     "data": {
      "image/png": "[encoded data removed]",
      "text/plain": [
       "<Figure size 432x432 with 1 Axes>"
      ]
     },
     "metadata": {},
     "output_type": "display_data"
    }
   ],
   "source": [
    "fig = plt.figure(figsize=(6, 6))  \n",
    "plt.style.use('fivethirtyeight')\n",
    "houses.SalePrice.plot.box()\n",
    "plt.show()\n",
    "\n",
    "fig = plt.figure(figsize=(6, 6))  \n",
    "plt.style.use('fivethirtyeight')\n",
    "houses['Lot Area'].plot.box()\n",
    "plt.show"
   ]
  },
  {
   "cell_type": "code",
   "execution_count": 13,
   "metadata": {},
   "outputs": [
    {
     "data": {
      "text/plain": [
       "20796.060068259394"
      ]
     },
     "execution_count": 13,
     "metadata": {},
     "output_type": "execute_result"
    }
   ],
   "source": [
    "# Difference of mean and median SalePrice\n",
    "mean_price = houses['SalePrice'].mean()\n",
    "median_price = houses['SalePrice'].median()\n",
    "saleprice_difference = mean_price - median_price\n",
    "saleprice_difference"
   ]
  },
  {
   "cell_type": "code",
   "execution_count": 14,
   "metadata": {},
   "outputs": [
    {
     "data": {
      "text/plain": [
       "3680.7051194539254"
      ]
     },
     "execution_count": 14,
     "metadata": {},
     "output_type": "execute_result"
    }
   ],
   "source": [
    "# Difference of mean and median Lot Area\n",
    "mean_price = houses['Lot Area'].mean()\n",
    "median_price = houses['Lot Area'].median()\n",
    "lotarea_difference = mean_price - median_price\n",
    "lotarea_difference"
   ]
  },
  {
   "cell_type": "markdown",
   "metadata": {},
   "source": [
    "### The Median for Ordinal Scale\n",
    "\n",
    "Data points belonging to ordinal variables are often coded using numbers. Consider the frequency distribution of the Overall Cond variable, which rates the overall condition of a house. Each numerical value corresponds to a specific condition from 'very poor' to 'very excellent'.\n",
    "\n",
    "Because words like \"fair\" or \"average\" are coded with numbers, it becomes mathematically possible to compute the mean. But whether or not it's theoretically sound to compute the mean for ordinal variables is contentious."
   ]
  },
  {
   "cell_type": "code",
   "execution_count": 15,
   "metadata": {
    "scrolled": true
   },
   "outputs": [
    {
     "name": "stdout",
     "output_type": "stream",
     "text": [
      "1       7\n",
      "2      10\n",
      "3      50\n",
      "4     101\n",
      "5    1654\n",
      "6     533\n",
      "7     390\n",
      "8     144\n",
      "9      41\n",
      "Name: Overall Cond, dtype: int64\n"
     ]
    }
   ],
   "source": [
    "print(houses['Overall Cond'].value_counts().sort_index())"
   ]
  },
  {
   "attachments": {
    "image.png": {
     "image/png": "[encoded data removed]"
    }
   },
   "cell_type": "markdown",
   "metadata": {},
   "source": [
    "If two data points are measured on an ordinal scale and there's a difference between them, we can tell the direction of the difference, but we don't know the size of the difference.\n",
    "![image.png](attachment:image.png)\n",
    "\n",
    "If the overall condition of a house is rated with an 8 (Excellent), and another house gets a 4 (Below average), we can't say that the conditions of the former are twice as better than the latter. The most we can say is that the house which got an 8 has better conditions (we can't quantify how much better — it could be twice as better, three times as better, 1.5 times as better, we simply don't know).\n",
    "\n",
    "It can be argued thus that the numerical values of an ordinal variable are not subject to meaningful arithmetical operations. But computing the mean involves meaningful arithmetical operations, so it's not theoretically sound to use the mean for ordinal variables.\n",
    "\n",
    "Because the median doesn't involve arithmetical operations, it's considered a better alternative to the mean. This doesn't fully apply, however, to even-numbered distributions, where we need to take the mean of the middle two values to find the median."
   ]
  },
  {
   "cell_type": "markdown",
   "metadata": {},
   "source": [
    "**Exercise**\n",
    "\n",
    "Find the mean and the median of the `Overall Cond` variable.\n",
    "\n",
    "- Assign the mean to a variable named `mean`.\n",
    "- Assign the median to a variable named `median`.\n",
    "- Plot a histogram to visualize the distribution of the `Overall Cond variable` and determine that between the mean and the median, which one describes better the shape of the histogram."
   ]
  },
  {
   "cell_type": "code",
   "execution_count": 16,
   "metadata": {
    "scrolled": true
   },
   "outputs": [
    {
     "name": "stdout",
     "output_type": "stream",
     "text": [
      "mean:  5.563139931740614\n",
      "median:  5.0\n"
     ]
    },
    {
     "data": {
      "image/png": "[encoded data removed]",
      "text/plain": [
       "<Figure size 432x432 with 1 Axes>"
      ]
     },
     "metadata": {},
     "output_type": "display_data"
    }
   ],
   "source": [
    "mean = houses['Overall Cond'].mean()\n",
    "print('mean: ', mean)\n",
    "\n",
    "median = houses['Overall Cond'].median()\n",
    "print('median: ', median)\n",
    "\n",
    "fig = plt.figure(figsize=(6, 6))  \n",
    "plt.style.use('fivethirtyeight')\n",
    "houses['Overall Cond'].plot.hist(bins = 8)\n",
    "plt.show()"
   ]
  },
  {
   "cell_type": "markdown",
   "metadata": {},
   "source": [
    "Above, the mean appears more representative because it captures the fact that there are more houses rated above 5 than rated under 5. Because of this, the mean is slightly shifted above 5."
   ]
  },
  {
   "cell_type": "markdown",
   "metadata": {},
   "source": [
    "### Sensitivity to Changes\n",
    "\n",
    "Although it can be argued that it's theoretically unsound to compute the mean for ordinal variables, in the last exercise we found the mean more informative and representative than the median. The truth is that in practice many people get past the theoretical hurdles and use the mean nonetheless because in many cases it's much richer in information than the median.\n",
    "\n",
    "Let's consider a situation where the mean is arguably a much better choice to measure the average of an ordinal variable. Let's say we're working for an online real estate company which allows customers to buy, sell, and rent houses. The speed on our website is important for all of our customers, and we want to measure how the customers perceive the speed on the website.\n",
    "\n",
    "We sample randomly 10 customers and have them assess the following sentence: \"The website is very fast, usually a new page loads in less than a second\". The customers can choose between the following answers, which we plan to code under the hood with numbers between 1 and 5:\n",
    "\n",
    "Code\tAnswer\n",
    "1\tStrongly disagree\n",
    "2\tDisagree\n",
    "3\tNeither agree nor disagree\n",
    "4\tAgree\n",
    "5\tStrongly agree\n",
    "\n",
    "The survey yielded the distribution below, whose mean and median have both a value of 2:\n",
    "$\\begin{equation}\n",
    "[1, 1, 1, 2, 2, 2, 2, 3, 3, 3]\n",
    "\\end{equation}$\n",
    "\n",
    "After being presented with the results, the engineering team implemented a few changes meant to improve speed, and now we repeat the survey on another random sample of 10 customers and get these results:\n",
    "$\\begin{equation}\n",
    "[1, 2, 2, 2, 2, 2, 4, 5, 5, 5]\n",
    "\\end{equation}$\n",
    "\n",
    "The median is still 2, and it suggests that nothing changed. The mean, however, went up to 3, suggesting that the changes our engineers made have had a positive effect. Unlike the median, the mean is sensitive to small changes in the data, and this property is what makes it more useful in this case.\n",
    "\n",
    "It should be clear by now that whether we should use the mean for ordinal data is contentious. In practice, we should be flexible and make our choice on a case by case basis. Also, we are not constrained to choose one metric or the other — we can choose both the mean and median to describe a distribution.\n"
   ]
  }
 ],
 "metadata": {
  "kernelspec": {
   "display_name": "Python 3",
   "language": "python",
   "name": "python3"
  },
  "language_info": {
   "codemirror_mode": {
    "name": "ipython",
    "version": 3
   },
   "file_extension": ".py",
   "mimetype": "text/x-python",
   "name": "python",
   "nbconvert_exporter": "python",
   "pygments_lexer": "ipython3",
   "version": "3.8.3"
  }
 },
 "nbformat": 4,
 "nbformat_minor": 4
}
