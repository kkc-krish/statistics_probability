{
 "cells": [
  {
   "cell_type": "markdown",
   "metadata": {},
   "source": [
    "### Lesson - Statistics and Probability III: Frequency Distribution\n",
    "    \n",
    "One way to simplify a large data is to express the variables of interest as frequencies i.e. the number of times they occur with a unique value.   \n",
    "\n",
    "With the table below, we simplify the `POS` variable by transforming it to a comprehensible format. Instead of having to deal with analyzing 143 values (the length of the `POS` variable), now we only have five values to analyze. Such a table is often called a **frequency distribution table**, or, shorter, **frequency table** or **frequency distribution**.\n",
    "\n",
    "We can see how the frequencies are distributed:\n",
    "- Almost half of the players play as guards.\n",
    "- Most of the players are either guards, forwards or centers.\n",
    "- Very few players have combined positions (like guard/forward or forward/center).\n",
    "\n",
    "We can make comparisons with ease:\n",
    "- There are roughly two times more guards than forwards.\n",
    "- There are slightly less centers that forwards; etc."
   ]
  },
  {
   "cell_type": "code",
   "execution_count": 1,
   "metadata": {},
   "outputs": [],
   "source": [
    "# Setting pandas display options for large data\n",
    "import pandas as pd\n",
    "\n",
    "pd.options.display.max_rows = 200\n",
    "pd.options.display.max_columns = 50"
   ]
  },
  {
   "cell_type": "code",
   "execution_count": 2,
   "metadata": {},
   "outputs": [],
   "source": [
    "wnba = pd.read_csv(\"wnba.csv\")"
   ]
  },
  {
   "cell_type": "code",
   "execution_count": 3,
   "metadata": {
    "scrolled": true
   },
   "outputs": [
    {
     "name": "stdout",
     "output_type": "stream",
     "text": [
      "G      60\n",
      "F      33\n",
      "C      25\n",
      "G/F    13\n",
      "F/C    12\n",
      "Name: Pos, dtype: int64\n"
     ]
    }
   ],
   "source": [
    "print(wnba[\"Pos\"].value_counts())"
   ]
  },
  {
   "cell_type": "markdown",
   "metadata": {},
   "source": [
    "### Frequency Distribution Tables\n",
    "\n",
    "A frequency distribution table has two columns. One column records the unique values of a variable, and the other the frequency of each unique value. To generate a frequency distribution table using Python, we can use the `Series.value_counts()` [method](https://pandas.pydata.org/pandas-docs/stable/reference/api/pandas.Series.value_counts.html)."
   ]
  },
  {
   "cell_type": "code",
   "execution_count": 4,
   "metadata": {
    "scrolled": true
   },
   "outputs": [
    {
     "name": "stdout",
     "output_type": "stream",
     "text": [
      "188    20\n",
      "193    18\n",
      "175    16\n",
      "185    15\n",
      "191    11\n",
      "183    11\n",
      "173    11\n",
      "196     9\n",
      "178     8\n",
      "180     7\n",
      "170     6\n",
      "198     5\n",
      "201     2\n",
      "168     2\n",
      "206     1\n",
      "165     1\n",
      "Name: Height, dtype: int64\n"
     ]
    }
   ],
   "source": [
    "freq_distro_height = wnba[\"Height\"].value_counts(normalize = False)\n",
    "print(freq_distro_height)\n"
   ]
  },
  {
   "cell_type": "code",
   "execution_count": 5,
   "metadata": {
    "scrolled": true
   },
   "outputs": [
    {
     "name": "stdout",
     "output_type": "stream",
     "text": [
      "(164.958, 185.5]    0.538462\n",
      "(185.5, 206.0]      0.461538\n",
      "Name: Height, dtype: float64\n"
     ]
    }
   ],
   "source": [
    "# Using normalize (%age) and bins (stacks or groups) arguments\n",
    "freq_distro_height = wnba[\"Height\"].value_counts(normalize = True, bins = 2)\n",
    "print(freq_distro_height)"
   ]
  },
  {
   "cell_type": "markdown",
   "metadata": {},
   "source": [
    "### Sorting Frequency Table\n",
    "\n",
    "Pandas sorts the tables by default in the descending order of the frequencies using default `ascending = False`. Setting it to `True` will sort in ascending order. \n",
    "\n",
    "However, if we want to sort by heights and not their values, we will have to use `sort_index` [method](https://pandas.pydata.org/pandas-docs/stable/reference/api/pandas.Series.sort_index.html) in which default argument is `ascending = True`. We can also set it to `False`/"
   ]
  },
  {
   "cell_type": "code",
   "execution_count": 6,
   "metadata": {
    "scrolled": true
   },
   "outputs": [
    {
     "name": "stdout",
     "output_type": "stream",
     "text": [
      "21     2\n",
      "22    10\n",
      "23    15\n",
      "24    16\n",
      "25    15\n",
      "26    12\n",
      "27    13\n",
      "28    14\n",
      "29     8\n",
      "30     9\n",
      "31     8\n",
      "32     8\n",
      "33     3\n",
      "34     5\n",
      "35     4\n",
      "36     1\n",
      "Name: Age, dtype: int64 36     1\n",
      "35     4\n",
      "34     5\n",
      "33     3\n",
      "32     8\n",
      "31     8\n",
      "30     9\n",
      "29     8\n",
      "28    14\n",
      "27    13\n",
      "26    12\n",
      "25    15\n",
      "24    16\n",
      "23    15\n",
      "22    10\n",
      "21     2\n",
      "Name: Age, dtype: int64\n"
     ]
    }
   ],
   "source": [
    "age_ascending = wnba[\"Age\"].value_counts().sort_index(ascending = True)\n",
    "age_descending = wnba[\"Age\"].value_counts().sort_index(ascending = False)\n",
    "\n",
    "print(age_ascending, age_descending)"
   ]
  },
  {
   "cell_type": "markdown",
   "metadata": {},
   "source": [
    "### Sorting for Ordinal Variables\n",
    "\n",
    "We can't sort variables measure on ordinal scale using above techniques as the measurement is done using words. \n",
    "\n",
    "We can convert variables measured on ratio or interval scales to ordinal scales:"
   ]
  },
  {
   "cell_type": "code",
   "execution_count": 7,
   "metadata": {},
   "outputs": [],
   "source": [
    "def make_pts_ordinal(row):\n",
    "    if row['PTS'] <= 20:\n",
    "        return 'very few points'\n",
    "    if (20 < row['PTS'] <=  80):\n",
    "        return 'few points'\n",
    "    if (80 < row['PTS'] <=  150):\n",
    "        return 'many, but below average'\n",
    "    if (150 < row['PTS'] <= 300):\n",
    "        return 'average number of points'\n",
    "    if (300 < row['PTS'] <=  450):\n",
    "        return 'more than average'\n",
    "    else:\n",
    "        return 'much more than average'\n",
    "    \n",
    "wnba['PTS_ordinal_scale'] = wnba.apply(make_pts_ordinal, axis = 1)\n",
    "\n"
   ]
  },
  {
   "cell_type": "code",
   "execution_count": 8,
   "metadata": {
    "scrolled": true
   },
   "outputs": [
    {
     "name": "stdout",
     "output_type": "stream",
     "text": [
      "              Name  PTS         PTS_ordinal_scale\n",
      "0    Aerial Powers   93   many, but below average\n",
      "1      Alana Beard  217  average number of points\n",
      "2     Alex Bentley  218  average number of points\n",
      "3  Alex Montgomery  188  average number of points\n",
      "4     Alexis Jones   50                few points\n"
     ]
    }
   ],
   "source": [
    "print(wnba[[\"Name\", \"PTS\", \"PTS_ordinal_scale\"]][:5])"
   ]
  },
  {
   "cell_type": "code",
   "execution_count": 9,
   "metadata": {
    "scrolled": true
   },
   "outputs": [
    {
     "name": "stdout",
     "output_type": "stream",
     "text": [
      "average number of points    45\n",
      "few points                  27\n",
      "many, but below average     25\n",
      "more than average           21\n",
      "much more than average      13\n",
      "very few points             12\n",
      "Name: PTS_ordinal_scale, dtype: int64\n"
     ]
    }
   ],
   "source": [
    "# Frequency Distribution Table\n",
    "\n",
    "print(wnba['PTS_ordinal_scale'].value_counts())"
   ]
  },
  {
   "cell_type": "code",
   "execution_count": 10,
   "metadata": {},
   "outputs": [
    {
     "name": "stdout",
     "output_type": "stream",
     "text": [
      "much more than average      13\n",
      "more than average           21\n",
      "average number of points    45\n",
      "many, but below average     25\n",
      "few points                  27\n",
      "very few points             12\n",
      "Name: PTS_ordinal_scale, dtype: int64\n"
     ]
    }
   ],
   "source": [
    "# To sort by index, we have to use index labels in desc or asc order \n",
    "# as sort_index will only sort alphabetically \n",
    "\n",
    "pts_ordinal_desc = wnba['PTS_ordinal_scale'].value_counts()[['much more than average', 'more than average', 'average number of points', 'many, but below average', 'few points', 'very few points']]\n",
    "print(pts_ordinal_desc)"
   ]
  },
  {
   "cell_type": "code",
   "execution_count": 11,
   "metadata": {
    "scrolled": true
   },
   "outputs": [
    {
     "name": "stdout",
     "output_type": "stream",
     "text": [
      "much more than average      13\n",
      "more than average           21\n",
      "average number of points    45\n",
      "many, but below average     25\n",
      "few points                  27\n",
      "very few points             12\n",
      "Name: PTS_ordinal_scale, dtype: int64\n"
     ]
    }
   ],
   "source": [
    "# Or we can use series.iloc to get same results as above\n",
    "pts_ordinal_desc = wnba['PTS_ordinal_scale'].value_counts().iloc[[4, 3, 0, 2, 1, 5]]\n",
    "print(pts_ordinal_desc)"
   ]
  },
  {
   "cell_type": "markdown",
   "metadata": {},
   "source": [
    "### Proportions and Percentages\n",
    "\n",
    "When we analyze distributions, we're often interested in answering questions about **proportions** and **percentages**.\n",
    "\n",
    "we may want to answer the following questions about the distribution of the POS (player position) variable:\n",
    "\n",
    "- What proportion of players are guards?\n",
    "- What percentage of players are centers?\n",
    "- What percentage of players have mixed positions?\n",
    "\n",
    "We can set normalize parameter to `True` in value_counts to get proportions, and multiply with 100 for percentages"
   ]
  },
  {
   "cell_type": "code",
   "execution_count": 12,
   "metadata": {
    "scrolled": true
   },
   "outputs": [
    {
     "name": "stdout",
     "output_type": "stream",
     "text": [
      "21    0.013986\n",
      "22    0.069930\n",
      "23    0.104895\n",
      "24    0.111888\n",
      "25    0.104895\n",
      "26    0.083916\n",
      "27    0.090909\n",
      "28    0.097902\n",
      "29    0.055944\n",
      "30    0.062937\n",
      "31    0.055944\n",
      "32    0.055944\n",
      "33    0.020979\n",
      "34    0.034965\n",
      "35    0.027972\n",
      "36    0.006993\n",
      "Name: Age, dtype: float64\n"
     ]
    }
   ],
   "source": [
    "# Proportions\n",
    "age_prop = wnba[\"Age\"].value_counts(normalize = True).sort_index(ascending = True) \n",
    "print(age_prop)"
   ]
  },
  {
   "cell_type": "code",
   "execution_count": 13,
   "metadata": {
    "scrolled": true
   },
   "outputs": [
    {
     "name": "stdout",
     "output_type": "stream",
     "text": [
      "21     1.398601\n",
      "22     6.993007\n",
      "23    10.489510\n",
      "24    11.188811\n",
      "25    10.489510\n",
      "26     8.391608\n",
      "27     9.090909\n",
      "28     9.790210\n",
      "29     5.594406\n",
      "30     6.293706\n",
      "31     5.594406\n",
      "32     5.594406\n",
      "33     2.097902\n",
      "34     3.496503\n",
      "35     2.797203\n",
      "36     0.699301\n",
      "Name: Age, dtype: float64\n"
     ]
    }
   ],
   "source": [
    "# Percentages\n",
    "age_pct = (wnba[\"Age\"].value_counts(normalize = True)*100).sort_index(ascending = True)\n",
    "print(age_pct)                                                                     "
   ]
  },
  {
   "cell_type": "code",
   "execution_count": 14,
   "metadata": {
    "scrolled": true
   },
   "outputs": [
    {
     "name": "stdout",
     "output_type": "stream",
     "text": [
      "26.573426573426573\n"
     ]
    }
   ],
   "source": [
    "# %age of players with age 30 or older\n",
    "print(sum(age_pct[age_pct.index>=30]))"
   ]
  },
  {
   "cell_type": "code",
   "execution_count": 15,
   "metadata": {
    "scrolled": true
   },
   "outputs": [
    {
     "name": "stdout",
     "output_type": "stream",
     "text": [
      "18.88111888111888\n"
     ]
    }
   ],
   "source": [
    "# %age of players with age 23 or younger\n",
    "print(sum(age_pct[age_pct.index<=23]))"
   ]
  },
  {
   "attachments": {
    "image.png": {
     "image/png": "[encoded data removed]"
    }
   },
   "cell_type": "markdown",
   "metadata": {},
   "source": [
    "### Percentiles and Percentile Rank\n",
    "\n",
    "The percentage of players aged 23 years or younger is 19% (rounded to the nearest integer). This percentage is also called a **percentile rank**.\n",
    "\n",
    "A percentile rank of a value in a frequency distribution is given by the percentage of values that are equal or less than x. Above x = 23, and the fact that 23 has a **percentile rank** of 19% means that 19% of the values are equal to or less than 23.\n",
    "\n",
    "In this context, the value of 23 is called the **19th percentile**. If a value is the 19th percentile, it means that 19% of all the values in the distribution are equal to or less than x.\n",
    "\n",
    "![image.png](attachment:image.png)"
   ]
  },
  {
   "cell_type": "markdown",
   "metadata": {},
   "source": [
    "When we're trying to answer questions similar to \"What percentage of players are 23 years or younger?\", we're trying to find percentile ranks. Above, we calculated it using:\n",
    "```\n",
    "# %age of players with age 23 or younger\n",
    "print(sum(age_pct[age_pct.index<=23]))\n",
    "\n",
    "18.88111888111888\n",
    "\n",
    "```\n",
    "We can use `scipy.stats` to find the percentile directly using percentileofscore `(a, score, kind='weak')` [function](https://docs.scipy.org/doc/scipy-0.10.0/reference/generated/scipy.stats.percentileofscore.html#scipy-stats-percentileofscore)."
   ]
  },
  {
   "cell_type": "code",
   "execution_count": 16,
   "metadata": {},
   "outputs": [
    {
     "name": "stdout",
     "output_type": "stream",
     "text": [
      "18.88111888111888\n"
     ]
    }
   ],
   "source": [
    "# kind = 'weak': \n",
    "from scipy.stats import percentileofscore\n",
    "print(percentileofscore(a = wnba['Age'], score = 23, kind = 'weak'))"
   ]
  },
  {
   "cell_type": "code",
   "execution_count": 17,
   "metadata": {},
   "outputs": [
    {
     "name": "stdout",
     "output_type": "stream",
     "text": [
      "13.986013986013987\n"
     ]
    }
   ],
   "source": [
    "# kind = 'rank': average percentage ranking of score\n",
    "print(percentileofscore(a = wnba['Age'], score = 23, kind = 'rank'))"
   ]
  },
  {
   "attachments": {
    "image.png": {
     "image/png": "[encoded data removed]"
    }
   },
   "cell_type": "markdown",
   "metadata": {},
   "source": [
    "The question that what percentage of players are 30 years or older can also be answered using percentile ranks. First we need to find the percentage of values equal to or less than 29 years (the percentile rank of 29). The rest of the values must be 30 years or more.\n",
    "\n",
    "![image.png](attachment:image.png)"
   ]
  },
  {
   "cell_type": "code",
   "execution_count": 18,
   "metadata": {
    "scrolled": true
   },
   "outputs": [
    {
     "name": "stdout",
     "output_type": "stream",
     "text": [
      "26.573426573426573\n"
     ]
    }
   ],
   "source": [
    "# %age of players with age 30 or older\n",
    "print(100 - percentileofscore(wnba['Age'], 29, kind = 'weak'))\n"
   ]
  },
  {
   "cell_type": "code",
   "execution_count": 19,
   "metadata": {
    "scrolled": true
   },
   "outputs": [
    {
     "name": "stdout",
     "output_type": "stream",
     "text": [
      "2      0.699301\n",
      "4      2.097902\n",
      "5      0.699301\n",
      "7      2.097902\n",
      "8      0.699301\n",
      "9      0.699301\n",
      "10     1.398601\n",
      "12     0.699301\n",
      "14     2.797203\n",
      "15     1.398601\n",
      "16     1.398601\n",
      "17     1.398601\n",
      "18     2.097902\n",
      "19     0.699301\n",
      "20     2.797203\n",
      "21     1.398601\n",
      "22     4.195804\n",
      "23     4.895105\n",
      "24     3.496503\n",
      "25     4.895105\n",
      "26     4.195804\n",
      "27     5.594406\n",
      "28     6.993007\n",
      "29    20.979021\n",
      "30    17.482517\n",
      "31     3.496503\n",
      "32     0.699301\n",
      "Name: Games Played, dtype: float64\n"
     ]
    }
   ],
   "source": [
    "# %age of players playing half the games or less in season (total games = 34)\n",
    "\n",
    "game_pct = (wnba[\"Games Played\"].value_counts(normalize = True)*100).sort_index(ascending = True)\n",
    "print(game_pct) "
   ]
  },
  {
   "cell_type": "code",
   "execution_count": 20,
   "metadata": {},
   "outputs": [
    {
     "name": "stdout",
     "output_type": "stream",
     "text": [
      "16.083916083916083\n"
     ]
    }
   ],
   "source": [
    "# Using Python\n",
    "print(sum(game_pct[game_pct.index<=17]))"
   ]
  },
  {
   "cell_type": "code",
   "execution_count": 21,
   "metadata": {},
   "outputs": [
    {
     "name": "stdout",
     "output_type": "stream",
     "text": [
      "16.083916083916083\n"
     ]
    }
   ],
   "source": [
    "# using scipy.stat\n",
    "from scipy.stats import percentileofscore\n",
    "print(percentileofscore(a = wnba['Games Played'], score = 17, kind = 'weak'))"
   ]
  },
  {
   "cell_type": "code",
   "execution_count": 22,
   "metadata": {
    "scrolled": true
   },
   "outputs": [
    {
     "name": "stdout",
     "output_type": "stream",
     "text": [
      "83.91608391608392\n"
     ]
    }
   ],
   "source": [
    "# percentage of players playing more than half the games \n",
    "\n",
    "print(100 - percentileofscore(a = wnba['Games Played'], score = 17, kind = 'weak'))"
   ]
  },
  {
   "cell_type": "markdown",
   "metadata": {},
   "source": [
    "### Finding Percentiles with Pandas\n",
    "\n",
    "`Series.describe()` [method]( , returns by default the 25th, the 50th, and the 75th percentiles. However, the `percentiles` parameter can be set to output any percentile in the format between 0 and 1. The default is [.25, .5, .75], which returns the 25th, 50th, and 75th percentiles."
   ]
  },
  {
   "cell_type": "code",
   "execution_count": 23,
   "metadata": {
    "scrolled": true
   },
   "outputs": [
    {
     "name": "stdout",
     "output_type": "stream",
     "text": [
      "count    143.000000\n",
      "mean      27.076923\n",
      "std        3.679170\n",
      "min       21.000000\n",
      "25%       24.000000\n",
      "50%       27.000000\n",
      "75%       30.000000\n",
      "max       36.000000\n",
      "Name: Age, dtype: float64\n"
     ]
    }
   ],
   "source": [
    "print(wnba[\"Age\"].describe())"
   ]
  },
  {
   "cell_type": "code",
   "execution_count": 24,
   "metadata": {
    "scrolled": true
   },
   "outputs": [
    {
     "name": "stdout",
     "output_type": "stream",
     "text": [
      "min    21.0\n",
      "25%    24.0\n",
      "50%    27.0\n",
      "75%    30.0\n",
      "max    36.0\n",
      "Name: Age, dtype: float64\n"
     ]
    }
   ],
   "source": [
    "# Use iloc to get relevant output\n",
    "\n",
    "print(wnba[\"Age\"].describe().iloc[3:])"
   ]
  },
  {
   "attachments": {
    "image.png": {
     "image/png": "[encoded data removed]"
    }
   },
   "cell_type": "markdown",
   "metadata": {},
   "source": [
    "The 25th, 50th, and 75th percentiles pandas returns by default are the scores that divide the distribution into four equal parts. The three percentiles that divide the distribution in four equal parts are also known as **quartiles**.\n",
    "\n",
    "- The first quartile (also called lower quartile) is 24 (note that 24 is also the 25th percentile).\n",
    "- The second quartile (also called the middle quartile) is 27 (note that 27 is also the 50th percentile).\n",
    "- And the third quartile (also called the upper quartile) is 30 (note that 30 is also the 75th percentile).\n",
    "\n",
    "![image.png](attachment:image.png)"
   ]
  },
  {
   "cell_type": "code",
   "execution_count": 25,
   "metadata": {},
   "outputs": [
    {
     "name": "stdout",
     "output_type": "stream",
     "text": [
      "30.0\n"
     ]
    }
   ],
   "source": [
    "# Upper quartile of \"Age\"\n",
    "\n",
    "age_upper_quartile = wnba[\"Age\"].describe().iloc[6]\n",
    "print(age_upper_quartile)"
   ]
  },
  {
   "cell_type": "code",
   "execution_count": 26,
   "metadata": {},
   "outputs": [
    {
     "name": "stdout",
     "output_type": "stream",
     "text": [
      "27.0\n"
     ]
    }
   ],
   "source": [
    "# Middle quartile of \"Age\"\n",
    "\n",
    "age_middle_quartile = wnba[\"Age\"].describe(percentiles = [0.5])[\"50%\"]\n",
    "print(age_middle_quartile)"
   ]
  },
  {
   "cell_type": "code",
   "execution_count": 27,
   "metadata": {},
   "outputs": [
    {
     "name": "stdout",
     "output_type": "stream",
     "text": [
      "34.0\n"
     ]
    }
   ],
   "source": [
    "# 95th percentile of \"Age\"\n",
    "\n",
    "age_95th_percentile = wnba[\"Age\"].describe(percentiles = [0.95])[\"95%\"]\n",
    "print(age_95th_percentile)"
   ]
  },
  {
   "attachments": {
    "image.png": {
     "image/png": "[encoded data removed]"
    }
   },
   "cell_type": "markdown",
   "metadata": {},
   "source": [
    "### Group Frequencies\n",
    "\n",
    "For large variability in values of a variable, we need to group frequencies in order to make data comprehensible. \n",
    "\n",
    "For example for the `Weigh` variable, the values range from 55 to 113 kg, which amounts to a difference of 58 kg. We can try to segment this 58 kg interval in ten smaller and equal intervals known as **bins**. This will result in ten intervals of 5.8 kg each.\n",
    "\n",
    "We can make use of the `bins` parameter of `Series.value_counts(`). If we want ten equal intervals, we need to specify bins = 10\n",
    "\n",
    "![image.png](attachment:image.png)"
   ]
  },
  {
   "cell_type": "code",
   "execution_count": 28,
   "metadata": {
    "scrolled": true
   },
   "outputs": [
    {
     "name": "stdout",
     "output_type": "stream",
     "text": [
      "(54.941, 60.8]    0.034965\n",
      "(60.8, 66.6]      0.146853\n",
      "(66.6, 72.4]      0.069930\n",
      "(72.4, 78.2]      0.230769\n",
      "(78.2, 84.0]      0.216783\n",
      "(84.0, 89.8]      0.167832\n",
      "(89.8, 95.6]      0.069930\n",
      "(95.6, 101.4]     0.020979\n",
      "(101.4, 107.2]    0.013986\n",
      "(107.2, 113.0]    0.020979\n",
      "Name: Weight, dtype: float64\n"
     ]
    }
   ],
   "source": [
    "weight_freq = (wnba[\"Weight\"].value_counts(bins=10, normalize=True)).sort_index()\n",
    "print(weight_freq)"
   ]
  },
  {
   "cell_type": "markdown",
   "metadata": {},
   "source": [
    "`(54.941, 60.8]`, `(60.8, 66.6]` or `(107.2, 113.0]` are number intervals. The `(` character indicates that the starting point is not included, while the `]` indicates that the endpoint is included. (54.941, 60.8] means that 54.941 isn't included in the interval, while 60.8 is. The interval (54.941, 60.8] contains all real numbers greater than 54.941 and less than or equal to 60.8.\n",
    "\n",
    "The table we generated above is also known as a **grouped frequency distribution table**. Each group (interval) in a grouped frequency distribution table is also known as a **class interval**. `(107.2, 113.0]`, for instance, is a class interval.\n",
    "\n",
    "Using the grouped frequency distribution table we generated above for the `Weight` variable, we can find patterns easier in the distribution of values:\n",
    "\n",
    "- Most players weigh somewhere between 70 and 90 kg.\n",
    "- Very few players weigh over 100 kg.\n",
    "- Very few players weigh under 60 kg; etc.\n",
    "\n"
   ]
  },
  {
   "cell_type": "code",
   "execution_count": 29,
   "metadata": {
    "scrolled": false
   },
   "outputs": [
    {
     "name": "stdout",
     "output_type": "stream",
     "text": [
      "2      1\n",
      "3      1\n",
      "6      2\n",
      "7      1\n",
      "8      1\n",
      "9      1\n",
      "12     1\n",
      "13     1\n",
      "17     2\n",
      "19     1\n",
      "22     1\n",
      "24     1\n",
      "26     2\n",
      "28     1\n",
      "31     1\n",
      "32     1\n",
      "36     1\n",
      "41     1\n",
      "44     1\n",
      "48     2\n",
      "49     1\n",
      "50     1\n",
      "51     1\n",
      "54     1\n",
      "55     1\n",
      "58     1\n",
      "65     1\n",
      "66     1\n",
      "70     2\n",
      "72     1\n",
      "73     1\n",
      "77     1\n",
      "78     1\n",
      "79     1\n",
      "81     1\n",
      "87     2\n",
      "88     1\n",
      "91     1\n",
      "93     1\n",
      "96     3\n",
      "100    1\n",
      "102    1\n",
      "106    2\n",
      "116    2\n",
      "119    1\n",
      "127    1\n",
      "128    1\n",
      "134    1\n",
      "138    1\n",
      "139    1\n",
      "140    1\n",
      "141    1\n",
      "142    1\n",
      "148    1\n",
      "151    1\n",
      "154    1\n",
      "156    1\n",
      "158    1\n",
      "159    1\n",
      "161    1\n",
      "171    1\n",
      "177    1\n",
      "185    1\n",
      "188    1\n",
      "191    1\n",
      "199    1\n",
      "200    1\n",
      "207    2\n",
      "209    1\n",
      "210    1\n",
      "216    1\n",
      "217    3\n",
      "218    1\n",
      "225    2\n",
      "228    1\n",
      "230    1\n",
      "233    1\n",
      "235    1\n",
      "238    1\n",
      "240    1\n",
      "244    1\n",
      "245    2\n",
      "250    1\n",
      "252    1\n",
      "253    1\n",
      "254    1\n",
      "255    1\n",
      "259    1\n",
      "268    1\n",
      "273    1\n",
      "277    2\n",
      "278    1\n",
      "298    1\n",
      "317    2\n",
      "318    1\n",
      "329    1\n",
      "336    1\n",
      "346    1\n",
      "349    1\n",
      "364    2\n",
      "370    1\n",
      "375    1\n",
      "376    1\n",
      "391    1\n",
      "395    1\n",
      "397    1\n",
      "398    1\n",
      "399    1\n",
      "411    1\n",
      "435    1\n",
      "442    2\n",
      "456    1\n",
      "461    1\n",
      "467    2\n",
      "490    1\n",
      "494    1\n",
      "514    1\n",
      "517    1\n",
      "545    1\n",
      "572    1\n",
      "577    1\n",
      "582    1\n",
      "584    1\n",
      "Name: PTS, dtype: int64\n"
     ]
    }
   ],
   "source": [
    "# Frequency table for \"PTS\"\n",
    "pts_freq = wnba[\"PTS\"].value_counts().sort_index()\n",
    "print(pts_freq)\n"
   ]
  },
  {
   "cell_type": "code",
   "execution_count": 30,
   "metadata": {
    "scrolled": true
   },
   "outputs": [
    {
     "name": "stdout",
     "output_type": "stream",
     "text": [
      "(525.8, 584.0]     3.496503\n",
      "(467.6, 525.8]     2.797203\n",
      "(409.4, 467.6]     5.594406\n",
      "(351.2, 409.4]     6.993007\n",
      "(293.0, 351.2]     5.594406\n",
      "(234.8, 293.0]    11.888112\n",
      "(176.6, 234.8]    13.986014\n",
      "(118.4, 176.6]    11.888112\n",
      "(60.2, 118.4]     16.783217\n",
      "(1.417, 60.2]     20.979021\n",
      "Name: PTS, dtype: float64\n"
     ]
    }
   ],
   "source": [
    "# Grouped \"PTS\" frequency table\n",
    "\n",
    "grouped_freq_table = (wnba[\"PTS\"].value_counts(bins=10, normalize = True)*100).sort_index(ascending = False)\n",
    "print(grouped_freq_table)\n"
   ]
  },
  {
   "cell_type": "markdown",
   "metadata": {},
   "source": [
    "### Information Loss\n",
    "\n",
    "When we generate grouped frequency distribution tables, there's an inevitable information loss. \n",
    "\n",
    "For example in the first interval below, we can see there are 30 players who scored between 2 and 60 points (2 is the minimum value in our data set, and points in basketball can only be integers). However, because we grouped the values, we lost more granular information like:\n",
    "\n",
    "- How many players, if any, scored exactly 50 points.\n",
    "- How many players scored under 10 points.\n",
    "- How many players scored between 20 and 30 points, etc."
   ]
  },
  {
   "cell_type": "code",
   "execution_count": 31,
   "metadata": {
    "scrolled": true
   },
   "outputs": [
    {
     "name": "stdout",
     "output_type": "stream",
     "text": [
      "(1.417, 60.2]     30\n",
      "(60.2, 118.4]     24\n",
      "(118.4, 176.6]    17\n",
      "(176.6, 234.8]    20\n",
      "(234.8, 293.0]    17\n",
      "(293.0, 351.2]     8\n",
      "(351.2, 409.4]    10\n",
      "(409.4, 467.6]     8\n",
      "(467.6, 525.8]     4\n",
      "(525.8, 584.0]     5\n",
      "Name: PTS, dtype: int64\n"
     ]
    }
   ],
   "source": [
    "pts_freq_grouped = wnba[\"PTS\"].value_counts(bins=10).sort_index()\n",
    "print(pts_freq_grouped)"
   ]
  },
  {
   "attachments": {
    "image.png": {
     "image/png": "[encoded data removed]"
    }
   },
   "cell_type": "markdown",
   "metadata": {},
   "source": [
    "To get back this granular information, we can increase the number of class intervals. However, if we do that, we end up again with a table that's lengthy and very difficult to analyze. On the other side, if we decrease the number of class intervals, we lose even more information.\n",
    "\n",
    "We can conclude there is a trade-off between the information in a table, and how comprehensible the table is.\n",
    "\n",
    "When we increase the number of class intervals, we can get more information, but the table becomes harder to analyze. When we decrease the number of class intervals, we get a boost in comprehensibility, but the amount of information in the table decreases.\n",
    "\n",
    "![image.png](attachment:image.png)"
   ]
  },
  {
   "attachments": {
    "image.png": {
     "image/png": "[encoded data removed]"
    }
   },
   "cell_type": "markdown",
   "metadata": {},
   "source": [
    "As a rule of thumb, 10 is a good number of class intervals to choose because it offers a good balance between information and comprehensibility. \n",
    "\n",
    "![image.png](attachment:image.png)"
   ]
  },
  {
   "cell_type": "code",
   "execution_count": 32,
   "metadata": {},
   "outputs": [
    {
     "name": "stdout",
     "output_type": "stream",
     "text": [
      "(10.993, 213.2]    29\n",
      "(213.2, 414.4]     32\n",
      "(414.4, 615.6]     25\n",
      "(615.6, 816.8]     29\n",
      "(816.8, 1018.0]    28\n",
      "Name: MIN, dtype: int64\n"
     ]
    }
   ],
   "source": [
    "# Grouped frequency table for \"MIN\" variable (minutes played during the season), Bins = 5\n",
    "\n",
    "mins_freq_grouped_5 = wnba[\"MIN\"].value_counts(bins=5).sort_index()\n",
    "print(mins_freq_grouped_5)"
   ]
  },
  {
   "cell_type": "code",
   "execution_count": 33,
   "metadata": {
    "scrolled": true
   },
   "outputs": [
    {
     "name": "stdout",
     "output_type": "stream",
     "text": [
      "(10.993, 112.6]    19\n",
      "(112.6, 213.2]     10\n",
      "(213.2, 313.8]     17\n",
      "(313.8, 414.4]     15\n",
      "(414.4, 515.0]     13\n",
      "(515.0, 615.6]     12\n",
      "(615.6, 716.2]     15\n",
      "(716.2, 816.8]     14\n",
      "(816.8, 917.4]     19\n",
      "(917.4, 1018.0]     9\n",
      "Name: MIN, dtype: int64\n"
     ]
    }
   ],
   "source": [
    "# Grouped frequency table for \"MIN\" variable (minutes played during the season), Bins = 10\n",
    "\n",
    "mins_freq_grouped_10 = wnba[\"MIN\"].value_counts(bins=10).sort_index()\n",
    "print(mins_freq_grouped_10)"
   ]
  },
  {
   "cell_type": "code",
   "execution_count": 34,
   "metadata": {
    "scrolled": false
   },
   "outputs": [
    {
     "name": "stdout",
     "output_type": "stream",
     "text": [
      "(10.993, 62.3]     12\n",
      "(62.3, 112.6]       7\n",
      "(112.6, 162.9]      6\n",
      "(162.9, 213.2]      4\n",
      "(213.2, 263.5]     11\n",
      "(263.5, 313.8]      6\n",
      "(313.8, 364.1]      6\n",
      "(364.1, 414.4]      9\n",
      "(414.4, 464.7]      6\n",
      "(464.7, 515.0]      7\n",
      "(515.0, 565.3]      4\n",
      "(565.3, 615.6]      8\n",
      "(615.6, 665.9]      7\n",
      "(665.9, 716.2]      8\n",
      "(716.2, 766.5]     10\n",
      "(766.5, 816.8]      4\n",
      "(816.8, 867.1]     12\n",
      "(867.1, 917.4]      7\n",
      "(917.4, 967.7]      7\n",
      "(967.7, 1018.0]     2\n",
      "Name: MIN, dtype: int64\n"
     ]
    }
   ],
   "source": [
    "# Grouped frequency table for \"MIN\" variable (minutes played during the season), Bins = 20\n",
    "\n",
    "mins_freq_grouped_20 = wnba[\"MIN\"].value_counts(bins=20).sort_index()\n",
    "print(mins_freq_grouped_20)"
   ]
  },
  {
   "cell_type": "markdown",
   "metadata": {},
   "source": [
    "### Improving Readability of Grouped Freq Tables\n",
    "\n",
    "The intervals pandas outputs are confusing at first sight. To fix this, we can define the intervals ourselves. For the table above, we can define six intervals of 100 points each, and then count how many values fit in each interval. \n",
    "\n",
    "We start with creating the intervals using the `pd.interval_range()` [function](https://pandas.pydata.org/pandas-docs/stable/reference/api/pandas.interval_range.html). "
   ]
  },
  {
   "cell_type": "code",
   "execution_count": 35,
   "metadata": {
    "scrolled": true
   },
   "outputs": [
    {
     "name": "stdout",
     "output_type": "stream",
     "text": [
      "IntervalIndex([(0, 60], (60, 120], (120, 180], (180, 240], (240, 300], (300, 360], (360, 420], (420, 480], (480, 540], (540, 600]],\n",
      "              closed='right',\n",
      "              dtype='interval[int64]')\n"
     ]
    }
   ],
   "source": [
    "intervals = pd.interval_range(start = 0, end = 600, freq = 60)\n",
    "print(intervals)"
   ]
  },
  {
   "cell_type": "markdown",
   "metadata": {},
   "source": [
    "We create a new Series using the intervals as indices, and, initially, 0 as values"
   ]
  },
  {
   "cell_type": "code",
   "execution_count": 37,
   "metadata": {
    "scrolled": true
   },
   "outputs": [
    {
     "name": "stdout",
     "output_type": "stream",
     "text": [
      "(0, 60]       0\n",
      "(60, 120]     0\n",
      "(120, 180]    0\n",
      "(180, 240]    0\n",
      "(240, 300]    0\n",
      "(300, 360]    0\n",
      "(360, 420]    0\n",
      "(420, 480]    0\n",
      "(480, 540]    0\n",
      "(540, 600]    0\n",
      "dtype: int64\n"
     ]
    }
   ],
   "source": [
    "gr_freq_table_10 = pd.Series([0,0,0,0,0,0,0,0,0,0], index = intervals)\n",
    "print(gr_freq_table_10)"
   ]
  },
  {
   "cell_type": "markdown",
   "metadata": {},
   "source": [
    "now, we loop through the values of the PTS column, and for each value:\n",
    "\n",
    "- We loop through the intervals we defined previously, and for each interval:\n",
    "- We check whether the current value from the PTS column belongs to that interval.\n",
    "- If the value doesn't belong to an interval, we continue the inner loop over the intervals.\n",
    "If the value belongs to an interval:\n",
    "- We update the counting for that interval in gr_freq_table by adding 1.\n",
    "- We exit the inner loop over the intervals with break because a value can belong to one interval only, and it makes no sense to continue the loop (without using break, we'll get the same output but we'll do many redundant iterations)"
   ]
  },
  {
   "cell_type": "code",
   "execution_count": 38,
   "metadata": {
    "scrolled": true
   },
   "outputs": [
    {
     "name": "stdout",
     "output_type": "stream",
     "text": [
      "(0, 60]       30\n",
      "(60, 120]     25\n",
      "(120, 180]    17\n",
      "(180, 240]    22\n",
      "(240, 300]    15\n",
      "(300, 360]     7\n",
      "(360, 420]    11\n",
      "(420, 480]     7\n",
      "(480, 540]     4\n",
      "(540, 600]     5\n",
      "dtype: int64\n"
     ]
    }
   ],
   "source": [
    "for value in wnba['PTS']:\n",
    "    for interval in intervals:\n",
    "        if value in interval:\n",
    "            gr_freq_table_10.loc[interval] += 1\n",
    "            break\n",
    "print(gr_freq_table_10)"
   ]
  },
  {
   "cell_type": "markdown",
   "metadata": {},
   "source": [
    "### Frequency Tables and Continuous Variables\n",
    "\n",
    "A height of 175 cm is just an interval bounded by the real limits of 174.5 cm (lower real limit) and 175.5 (upper real limit). When we build frequency tables for continuous variables, we need to take into account that the values are intervals.\n",
    "\n",
    "The height of 175 cm has a frequency of 16 in the distribution of the Height variable:"
   ]
  },
  {
   "cell_type": "code",
   "execution_count": 39,
   "metadata": {
    "scrolled": true
   },
   "outputs": [
    {
     "name": "stdout",
     "output_type": "stream",
     "text": [
      "16\n"
     ]
    }
   ],
   "source": [
    "print(wnba['Height'].value_counts()[175])"
   ]
  },
  {
   "cell_type": "markdown",
   "metadata": {},
   "source": [
    "This doesn't mean that there are 16 players that are all exactly 175 cm tall. It rather means that there are 16 players with a height that's somewhere between 174.5 cm and 175.5 cm.\n",
    "\n",
    "A similar reasoning applies when we read grouped frequency tables. If we had an interval of (180, 190] for a continuous variable, 180 and 190 are not the real limits. Instead, the real limits are given by the interval (179.5, 190.5], with 179.5 being the lower real limit of 180, and 190.5 the upper real limit of 190.\n",
    "\n",
    "Continuous variables affect as well the way we read percentiles. For instance, the 50th percentile (middle quartile) in the distribution of the Height variable is 185 cm.\n",
    "\n",
    "Continuous variables affect as well the way we read percentiles. For instance, the 50th percentile (middle quartile) in the distribution of the Height variable is 185 cm.\n",
    "\n",
    "This means that 50% of the values are less than or equal to 185.5 cm (the upper limit of 185 cm), not equal to 185 cm."
   ]
  },
  {
   "cell_type": "code",
   "execution_count": 40,
   "metadata": {},
   "outputs": [
    {
     "name": "stdout",
     "output_type": "stream",
     "text": [
      "min    165.0\n",
      "25%    176.5\n",
      "50%    185.0\n",
      "75%    191.0\n",
      "max    206.0\n",
      "Name: Height, dtype: float64\n"
     ]
    }
   ],
   "source": [
    "print(wnba['Height'].describe().iloc[3:])"
   ]
  }
 ],
 "metadata": {
  "kernelspec": {
   "display_name": "Python 3",
   "language": "python",
   "name": "python3"
  },
  "language_info": {
   "codemirror_mode": {
    "name": "ipython",
    "version": 3
   },
   "file_extension": ".py",
   "mimetype": "text/x-python",
   "name": "python",
   "nbconvert_exporter": "python",
   "pygments_lexer": "ipython3",
   "version": "3.8.3"
  }
 },
 "nbformat": 4,
 "nbformat_minor": 4
}
