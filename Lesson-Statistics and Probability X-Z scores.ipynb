{
 "cells": [
  {
   "cell_type": "markdown",
   "metadata": {},
   "source": [
    "# Lesson - Statistics and Probability X: Measures of Variability\n",
    "\n",
    "In this lesson, we'll focus on the individual values in a distribution, and learn a few statistical techniques that can help us answer practical questions."
   ]
  },
  {
   "cell_type": "code",
   "execution_count": 1,
   "metadata": {},
   "outputs": [],
   "source": [
    "import pandas as pd\n",
    "import numpy as np\n",
    "import matplotlib.pyplot as plt\n",
    "import seaborn as sns\n",
    "%matplotlib inline\n",
    "# Setting pandas display options for large data\n",
    "pd.options.display.max_rows = 200\n",
    "pd.options.display.max_columns = 100"
   ]
  },
  {
   "cell_type": "code",
   "execution_count": 2,
   "metadata": {},
   "outputs": [
    {
     "name": "stdout",
     "output_type": "stream",
     "text": [
      "<class 'pandas.core.frame.DataFrame'>\n",
      "RangeIndex: 2930 entries, 0 to 2929\n",
      "Data columns (total 82 columns):\n",
      " #   Column           Non-Null Count  Dtype  \n",
      "---  ------           --------------  -----  \n",
      " 0   Order            2930 non-null   int64  \n",
      " 1   PID              2930 non-null   int64  \n",
      " 2   MS SubClass      2930 non-null   int64  \n",
      " 3   MS Zoning        2930 non-null   object \n",
      " 4   Lot Frontage     2440 non-null   float64\n",
      " 5   Lot Area         2930 non-null   int64  \n",
      " 6   Street           2930 non-null   object \n",
      " 7   Alley            198 non-null    object \n",
      " 8   Lot Shape        2930 non-null   object \n",
      " 9   Land Contour     2930 non-null   object \n",
      " 10  Utilities        2930 non-null   object \n",
      " 11  Lot Config       2930 non-null   object \n",
      " 12  Land Slope       2930 non-null   object \n",
      " 13  Neighborhood     2930 non-null   object \n",
      " 14  Condition 1      2930 non-null   object \n",
      " 15  Condition 2      2930 non-null   object \n",
      " 16  Bldg Type        2930 non-null   object \n",
      " 17  House Style      2930 non-null   object \n",
      " 18  Overall Qual     2930 non-null   int64  \n",
      " 19  Overall Cond     2930 non-null   int64  \n",
      " 20  Year Built       2930 non-null   int64  \n",
      " 21  Year Remod/Add   2930 non-null   int64  \n",
      " 22  Roof Style       2930 non-null   object \n",
      " 23  Roof Matl        2930 non-null   object \n",
      " 24  Exterior 1st     2930 non-null   object \n",
      " 25  Exterior 2nd     2930 non-null   object \n",
      " 26  Mas Vnr Type     2907 non-null   object \n",
      " 27  Mas Vnr Area     2907 non-null   float64\n",
      " 28  Exter Qual       2930 non-null   object \n",
      " 29  Exter Cond       2930 non-null   object \n",
      " 30  Foundation       2930 non-null   object \n",
      " 31  Bsmt Qual        2850 non-null   object \n",
      " 32  Bsmt Cond        2850 non-null   object \n",
      " 33  Bsmt Exposure    2847 non-null   object \n",
      " 34  BsmtFin Type 1   2850 non-null   object \n",
      " 35  BsmtFin SF 1     2929 non-null   float64\n",
      " 36  BsmtFin Type 2   2849 non-null   object \n",
      " 37  BsmtFin SF 2     2929 non-null   float64\n",
      " 38  Bsmt Unf SF      2929 non-null   float64\n",
      " 39  Total Bsmt SF    2929 non-null   float64\n",
      " 40  Heating          2930 non-null   object \n",
      " 41  Heating QC       2930 non-null   object \n",
      " 42  Central Air      2930 non-null   object \n",
      " 43  Electrical       2929 non-null   object \n",
      " 44  1st Flr SF       2930 non-null   int64  \n",
      " 45  2nd Flr SF       2930 non-null   int64  \n",
      " 46  Low Qual Fin SF  2930 non-null   int64  \n",
      " 47  Gr Liv Area      2930 non-null   int64  \n",
      " 48  Bsmt Full Bath   2928 non-null   float64\n",
      " 49  Bsmt Half Bath   2928 non-null   float64\n",
      " 50  Full Bath        2930 non-null   int64  \n",
      " 51  Half Bath        2930 non-null   int64  \n",
      " 52  Bedroom AbvGr    2930 non-null   int64  \n",
      " 53  Kitchen AbvGr    2930 non-null   int64  \n",
      " 54  Kitchen Qual     2930 non-null   object \n",
      " 55  TotRms AbvGrd    2930 non-null   object \n",
      " 56  Functional       2930 non-null   object \n",
      " 57  Fireplaces       2930 non-null   int64  \n",
      " 58  Fireplace Qu     1508 non-null   object \n",
      " 59  Garage Type      2773 non-null   object \n",
      " 60  Garage Yr Blt    2771 non-null   float64\n",
      " 61  Garage Finish    2771 non-null   object \n",
      " 62  Garage Cars      2929 non-null   float64\n",
      " 63  Garage Area      2929 non-null   float64\n",
      " 64  Garage Qual      2771 non-null   object \n",
      " 65  Garage Cond      2771 non-null   object \n",
      " 66  Paved Drive      2930 non-null   object \n",
      " 67  Wood Deck SF     2930 non-null   int64  \n",
      " 68  Open Porch SF    2930 non-null   int64  \n",
      " 69  Enclosed Porch   2930 non-null   int64  \n",
      " 70  3Ssn Porch       2930 non-null   int64  \n",
      " 71  Screen Porch     2930 non-null   int64  \n",
      " 72  Pool Area        2930 non-null   int64  \n",
      " 73  Pool QC          13 non-null     object \n",
      " 74  Fence            572 non-null    object \n",
      " 75  Misc Feature     106 non-null    object \n",
      " 76  Misc Val         2930 non-null   int64  \n",
      " 77  Mo Sold          2930 non-null   int64  \n",
      " 78  Yr Sold          2930 non-null   int64  \n",
      " 79  Sale Type        2930 non-null   object \n",
      " 80  Sale Condition   2930 non-null   object \n",
      " 81  SalePrice        2930 non-null   int64  \n",
      "dtypes: float64(11), int64(27), object(44)\n",
      "memory usage: 1.8+ MB\n",
      "None\n"
     ]
    }
   ],
   "source": [
    "# Explore AmesHousing1.txt dataset\n",
    "houses = pd.read_csv('AmesHousing_1.txt', sep = '\\t')\n",
    "print(houses.info())"
   ]
  },
  {
   "cell_type": "markdown",
   "metadata": {},
   "source": [
    "### Individual Values\n",
    "We can sample randomly one sale price from the SalePrice column and see what can we say about the sampled value:"
   ]
  },
  {
   "cell_type": "code",
   "execution_count": 3,
   "metadata": {
    "scrolled": true
   },
   "outputs": [
    {
     "name": "stdout",
     "output_type": "stream",
     "text": [
      "2216    220000\n",
      "Name: SalePrice, dtype: int64\n"
     ]
    }
   ],
   "source": [
    "print(houses['SalePrice'].sample(1, random_state = 0))"
   ]
  },
  {
   "cell_type": "markdown",
   "metadata": {},
   "source": [
    "We can see we got a price of 220,000. Is a house costing 220,000 cheap, expensive, or average-priced? To answer this question, we can start with finding the mean price of a house and then figure out whether 220,000 is below or above the mean:"
   ]
  },
  {
   "cell_type": "code",
   "execution_count": 4,
   "metadata": {
    "scrolled": true
   },
   "outputs": [
    {
     "name": "stdout",
     "output_type": "stream",
     "text": [
      "180796.0600682594\n"
     ]
    }
   ],
   "source": [
    "print(houses['SalePrice'].mean())"
   ]
  },
  {
   "attachments": {
    "image.png": {
     "image/png": "[encoded data removed]"
    }
   },
   "cell_type": "markdown",
   "metadata": {},
   "source": [
    "The sampled house (220,000) is clearly more expensive than the average house (roughly 180,796), but is this price slightly above the average or extremely above the average? The answer depends on the standard deviation of the distribution of sale prices.\n",
    "\n",
    "To see why this is true, consider below two normally-distributed samples of sale prices. Both samples have the same mean Bbut the sample standard deviations are different.\n",
    "\n",
    "![image.png](attachment:image.png)\n",
    "\n",
    "For the sample with a greater standard deviation (s=40000), we can see that $220,000 is fairly close to the mean, indicating that houses at that price are common and thus not very expensive (relative to the other houses on the market).\n",
    "\n",
    "For the other sample (s=10000), we see $220,000 on the far right of the distribution, indicating that houses at that price are uncommon and thus very expensive (relative to the other houses on the market)."
   ]
  },
  {
   "cell_type": "markdown",
   "metadata": {},
   "source": [
    "**Exercise**\n",
    "\n",
    "Generate a kernel density plot for the `SalePrice` variable to find out how far off 220,000 is from the mean.\n",
    "\n",
    "- Generate the plot using `Series.plot.kde()`.\n",
    "- The limits of the x-axis should be the minimum and the maximum value of the `SalePrice` variable. To set the limits we can use the `xlim` parameter of `Series.plot.kde()`.\n",
    "- Plot a vertical line to indicate visually the location of the mean using `plt.axvline()`.\n",
    "- The color of the line should be black, and its label should be 'Mean'. We can use the `color` and `label` parameters of plt.axvline().\n",
    "- Plot a vertical line to indicate visually the standard deviation distance above the mean — we'll have to generate a vertical line for the sum of the mean and standard deviation.\n",
    "- Assume that the data is a population and compute the standard deviation without using Bessel's correction.\n",
    "- The color of the line should be red and its label should be 'Standard deviation'.\n",
    "- Plot a vertical line for the 220,000 price.\n",
    "- The color of the line should be orange and its label should be '220000'.\n",
    "- Display all the labels using plt.legend().\n",
    "- Examine the graph and figure out whether a price of 220,000 is very expensive. If it's very expensive, assign `True` to variable named `very_expensive`, otherwise assign `False`."
   ]
  },
  {
   "cell_type": "code",
   "execution_count": 5,
   "metadata": {
    "scrolled": true
   },
   "outputs": [
    {
     "data": {
      "image/png": "[encoded data removed]",
      "text/plain": [
       "<Figure size 864x432 with 1 Axes>"
      ]
     },
     "metadata": {
      "needs_background": "light"
     },
     "output_type": "display_data"
    }
   ],
   "source": [
    "fig = plt.figure(figsize=(12, 6))\n",
    "from numpy import arange\n",
    "plt.style.use('fivethirtyeight')\n",
    "houses['SalePrice'].plot.kde(label = 'price distribution', legend = True, color = 'blue', xticks = arange(0, houses.SalePrice.max(), 100000)  )\n",
    "\n",
    "# lines indicating mean, and standard deviation\n",
    "plt.axvline(x = houses['SalePrice'].mean(), ymin = 0, ymax = 1, label = 'Mean', linewidth = 3, color = 'black')\n",
    "plt.axvline(x = houses['SalePrice'].mean() + houses.SalePrice.std(ddof=0), ymin = 0, ymax = 1, label = 'Standard deviation', linewidth = 3, color = 'red')\n",
    "plt.axvline(x = 220000, ymin = 0, ymax = 1, label = '220000', linewidth = 3, color = 'orange')\n",
    "plt.xlim(houses.SalePrice.min(),houses.SalePrice.max())\n",
    "plt.legend()\n",
    "plt.xlabel('SalePrice')\n",
    "plt.title(\"Distribution of SalePrice\", fontsize = 16)\n",
    "plt.show()\n",
    "\n",
    "very_expensive = False"
   ]
  },
  {
   "cell_type": "markdown",
   "metadata": {},
   "source": [
    "### Number of Standard Deviations\n",
    "\n",
    "For each distribution below, the distance between 220,000 and the mean 180,000 is 40,000. For the distribution on the left, this distance of 40,000 is exactly equal to its standard deviation. With this in mind, we could say that 220,000 is one standard deviation away from the mean — this is the same as saying 220,000 is 40,000 away from the mean (because \"one standard deviation\" is equivalent to 40,000).\n",
    "\n",
    "\n",
    "\n",
    "For the distribution on the right, the standard deviation is 10,000. The distance between 220,000 and 180,000 is still 40,000, but in this case 40,000 is four times greater than the standard deviation of 10,000. We could thus say that 220,000 is four standard deviations away from the mean — this is the same as saying that 220,000 is 40,000 away from the mean (because \"four standard deviations\" is equivalent to 40,000, since one standard deviation is 10,000, and 4 × 10,000 = 40,000)\n",
    ")."
   ]
  },
  {
   "attachments": {
    "image.png": {
     "image/png": "[encoded data removed]"
    }
   },
   "cell_type": "markdown",
   "metadata": {},
   "source": [
    "We can measure how far off a value is from the mean in terms of number of standard deviations. If a price of 220,000 is one standard deviation away from the mean, then we can conclude that this value is relatively close to the mean, and it's not very expensive compared to the other prices in the distribution.\n",
    "\n",
    "If a price of 220,000 is four standard deviations away from the mean, then we know that this value is very far away from the mean. This means that 220,000 is very uncommon and very expensive compared to the other prices in the distribution.\n",
    "\n",
    "![image.png](attachment:image.png)"
   ]
  },
  {
   "cell_type": "markdown",
   "metadata": {},
   "source": [
    "**Exercise**\n",
    "\n",
    "Find out the number of standard deviations away from the mean for a price of 220,000 in the distribution of the `SalePrice` variable.\n",
    "- Measure the distance between 220,000 and the mean of the `SalePrice` column.\n",
    "- Divide the distance by the standard deviation of the `SalePrice` column (assume the data we have is a population) to find the number of standard deviations away from the mean.\n",
    "- Assign result to a variable named `st_devs_away`."
   ]
  },
  {
   "cell_type": "code",
   "execution_count": 6,
   "metadata": {},
   "outputs": [
    {
     "data": {
      "text/plain": [
       "0.4908280788718362"
      ]
     },
     "execution_count": 6,
     "metadata": {},
     "output_type": "execute_result"
    }
   ],
   "source": [
    "mean = houses.SalePrice.mean()\n",
    "stdev = houses.SalePrice.std(ddof = 0)\n",
    "st_devs_away = (220000 - mean) / stdev\n",
    "st_devs_away"
   ]
  },
  {
   "attachments": {
    "image.png": {
     "image/png": "[encoded data removed]"
    }
   },
   "cell_type": "markdown",
   "metadata": {},
   "source": [
    "### Z-score\n",
    "What we have calculated above is known as z-score. for any value x in a population with mean μ and standard deviation σ, the number of standard deviations away from the mean is given by the formula below, where we denote the number of standard deviations away from the mean with z:\n",
    "\n",
    "$$\\begin{equation}\n",
    "z = \\frac{x - \\mu}{\\sigma}\n",
    "\\end{equation}$$\n",
    "\n",
    "The value representing the number of standard deviations away from the mean is commonly known as the **standard score**, or the **z-score**.\n",
    "\n",
    "For the samples, Z-scores can be defined as: \n",
    "$$\\begin{equation}\n",
    "z = \\frac{x - \\bar{x}}{s}\n",
    "\\end{equation}$$\n",
    "\n",
    "where standard deviation is calculated with Bessel's correction. \n",
    "\n",
    "If the sample mean is 180,000 and standard deviation is 40,000; then a price of 100,000 will have a z-score of -2:\n",
    "\n",
    "$$\\begin{equation}\n",
    "z = \\frac{100000 - 180000}{40000} = \\frac{-80000}{40000} = -2\n",
    "\\end{equation}$$\n",
    "\n",
    "![image.png](attachment:image.png)\n",
    "\n",
    "We can see that a z-score has two parts:\n",
    "\n",
    "- The sign, which indicates whether the value is above or below the mean.\n",
    "- The value, which indicates the number of standard deviations that a value is away from the mean.\n",
    "\n",
    "Generally, the sign of a z-score is written out even if the z-score is positive. If a value is two standard deviations away from the mean, we should write that the z-score is +2, not 2.\n",
    "\n"
   ]
  },
  {
   "cell_type": "markdown",
   "metadata": {},
   "source": [
    "**Exercise**\n",
    "\n",
    "Write a function that takes in a value, the array the value belongs to, and returns the z-score of that value. Inside the function's definition:\n",
    "\n",
    "- Compute the mean of the array.\n",
    "- Compute the standard deviation of the array. The function should be flexible enough to compute z-scores for both samples and populations. We can use the `std()` function from numpy.\n",
    "\n",
    "- Find out the distance between the value and the mean of the array.\n",
    "- Compute the z-score by dividing the distance by the standard deviation of the array.\n",
    "- Return the z-score.\n",
    "- Compute the z-score for`min_val`, `mean_val`, `max_val`. Assume that the values come from a population.\n",
    "\n",
    "Assign the z-score for min_val to a variable named `min_z`.\n",
    "Assign the z-score for mean_val to a variable named `mean_z`.\n",
    "Assign the z-score for max_val to a variable named `max_z`."
   ]
  },
  {
   "cell_type": "code",
   "execution_count": 7,
   "metadata": {},
   "outputs": [],
   "source": [
    "def get_zscore(value, array, ddof = 0):\n",
    "    from numpy import std\n",
    "    mean = sum(array)/len(array)\n",
    "    stdev = std(array, ddof = ddof)\n",
    "    zscore = (value - mean) / stdev\n",
    "    return zscore"
   ]
  },
  {
   "cell_type": "code",
   "execution_count": 8,
   "metadata": {},
   "outputs": [
    {
     "name": "stdout",
     "output_type": "stream",
     "text": [
      "-2.1034258973406126 0.0 7.188956446929806\n"
     ]
    }
   ],
   "source": [
    "sale_price = houses['SalePrice']\n",
    "min_val = houses['SalePrice'].min()\n",
    "mean_val = houses['SalePrice'].mean()\n",
    "max_val = houses['SalePrice'].max()\n",
    "\n",
    "min_z = get_zscore(min_val, sale_price, ddof = 0)\n",
    "mean_z = get_zscore(mean_val, sale_price, ddof = 0)\n",
    "max_z = get_zscore(max_val, sale_price, ddof = 0)\n",
    "\n",
    "print(min_z, mean_z, max_z)"
   ]
  },
  {
   "cell_type": "markdown",
   "metadata": {},
   "source": [
    "### Locating Values in Different Distributions\n",
    "\n",
    "Assume we're working as data analysts for a real estate company, and we want to find the best neighborhood in Ames to invest in (our data set describes sale prices for houses in Ames, Iowa). Our company wants to buy a couple of houses that we can then rent and ideally sell back later at a higher price. We think that location is an important factor driving rental and sale prices, and we want to target our investment based on location.\n",
    "\n",
    "The company budgeted 10,000,000 for this investment, and the plan is to buy 50 houses of 200,000 each. Depending on the market particularities of each neighborhood, a 200,000 house can be considered cheap, average-priced, or expensive. We want to find a neighborhood where a price of 200,000 goes as average because average-priced houses are the ones that are most rented and easiest to sell.\n",
    "\n",
    "Sale prices are lower in a bad neighborhood, and someone can get a high-quality house for 200,000, but usually people avoid bad neighborhood nonetheless for a variety of reasons: distance from the workplace, lack of schools, pollution, noise, etc.\n",
    "\n",
    "High-quality neighborhoods will tend to be avoided as well because of the higher sale prices — with 200,000, we may only be able to get a poor-quality house in a good location. So most people will aim for something in the middle — these people make up the market we intend to reach.\n",
    "\n",
    "We're asked by our real estate specialists to analyze historical data on five neighborhoods:\n",
    "\n",
    "- North Ames.\n",
    "- College Creek.\n",
    "- Old Town.\n",
    "- Edwards.\n",
    "- Somerset.\n",
    "\n",
    "Our goal is to find out for which of these neighborhoods a 200,000 house is average-priced. We can solve this task quickly by measuring the z-score for a 200,000 value for each of the five distributions — each of the five neighborhoods has its own distribution of sale prices with its own mean and standard deviation.\n",
    "\n",
    "We saw above that the mean of a distribution has a z-score of 0, so our recommendation should be the neighborhood with the z-score closest to 0. \n",
    "\n",
    "Note that we can't simply find the mean sale price of each neighborhood and then just subtract 200,000 from the mean to find the neighborhood with the lowest difference. This way we'd fail to take into account the variability of each distribution."
   ]
  },
  {
   "cell_type": "markdown",
   "metadata": {},
   "source": [
    "**Exercise**\n",
    "\n",
    "Find out the location for which 200,000 has the z-score closest to 0.\n",
    "\n",
    "- Isolate the data for each of the five neighborhoods. The neigborhoods are described in the `Neighborhood` column. These are the abbreviations for our neighborhoods of interest:\n",
    "`'NAmes'` for North Ames.\n",
    "`'CollgCr'` for College Creek.\n",
    "`'OldTown'` for Old Town.\n",
    "`'Edwards'` for Edwards.\n",
    "`'Somerst'` for Somerset.\n",
    "\n",
    "- We can use Dataframe.groupby() function to isolate the data or use a boolean like: `houses[houses['Neighborhood'] == 'NAmes']` and save the data to a variable.\n",
    "\n",
    "- Find the z-score of a 200,000 price for each of the five isolated data sets. Assume that each data set is a population.\n",
    "- Examine the z-scores to find the best location to invest in."
   ]
  },
  {
   "cell_type": "code",
   "execution_count": 9,
   "metadata": {},
   "outputs": [
    {
     "name": "stdout",
     "output_type": "stream",
     "text": [
      "{'NAmes': 1.7239665910370237, 'CollgCr': 0.03334366282705464, 'OldTown': 1.7183080926865524, 'Edwards': 1.443576193848941, 'Somerst': 0.5186390646965722}\n",
      "CollgCr\n"
     ]
    }
   ],
   "source": [
    "neighborhoods = ['NAmes', \"CollgCr\", 'OldTown', 'Edwards', 'Somerst']\n",
    "z_scores = {}\n",
    "\n",
    "for location in neighborhoods:\n",
    "    z = get_zscore(200000, (houses.groupby('Neighborhood')['SalePrice'].get_group(location)), ddof = 0)\n",
    "    z_scores[location] = abs(z) # We are only interested in distance away fro mmean, not the + or - sign\n",
    "lowest_zscore = min(z_scores, key = z_scores.get)    \n",
    "print(z_scores) \n",
    "print(lowest_zscore)"
   ]
  },
  {
   "cell_type": "markdown",
   "metadata": {},
   "source": [
    "### Transforming Distributions\n",
    "\n",
    "Z-scores are often used to transform entire distributions by converting all the values to z-scores. Consider, for instance, the distribution of the SalePrice column.\n",
    "\n",
    "We can transform the entire distribution by converting each value to a z-score.\n",
    "\n",
    "Below we:\n",
    "- Convert each value to a z-score by using the `Series.apply()` method.\n",
    "- Store the z-scores in a separate column named `z_prices`.\n",
    "- Plot side by side the kernel density plot for the original values and the kernel density plot for the z-scores."
   ]
  },
  {
   "cell_type": "code",
   "execution_count": 10,
   "metadata": {},
   "outputs": [
    {
     "data": {
      "image/png": "[encoded data removed]",
      "text/plain": [
       "<Figure size 792x252 with 2 Axes>"
      ]
     },
     "metadata": {},
     "output_type": "display_data"
    }
   ],
   "source": [
    "mean = houses['SalePrice'].mean()\n",
    "st_dev = houses['SalePrice'].std(ddof = 0)\n",
    "\n",
    "houses['z_prices'] = houses['SalePrice'].apply(\n",
    "    lambda x: ((x - mean) / st_dev)\n",
    "    )\n",
    "\n",
    "\n",
    "fig = plt.figure(figsize=(11, 3.5))\n",
    "from numpy import arange\n",
    "plt.style.use('fivethirtyeight')\n",
    "\n",
    "plt.subplot(1, 2, 1)\n",
    "houses['z_prices'].plot.kde(label = 'z_price distribution', \n",
    "                            legend = True, color = 'blue', xticks = arange(houses.z_prices.min(), houses.z_prices.max()+2, 1.5), \n",
    "                            xlim = (houses.z_prices.min(), houses.z_prices.max() + 2)\n",
    "                           )\n",
    "\n",
    "\n",
    "plt.subplot(1, 2, 2)\n",
    "houses['SalePrice'].plot.kde(label = 'SalePrice distribution', legend = True, \n",
    "                             color = 'blue', xticks = arange(houses.SalePrice.min(), houses.SalePrice.max() + 400000, 200000),\n",
    "                             xlim = (houses.SalePrice.min(), houses.SalePrice.max() + 200000)\n",
    "                            )\n",
    "plt.tight_layout() # otherwise the plots will overlay partially\n",
    "plt.show()\n",
    "\n",
    "\n"
   ]
  },
  {
   "cell_type": "markdown",
   "metadata": {},
   "source": [
    "Notice above that the shape of the initial distribution is preserved perfectly in the new distribution of z-scores. \n",
    "\n",
    "\n",
    "**Exercise**\n",
    "\n",
    "Above, we've already transformed the distribution of the SalePrice variable to distribution of z-scores and saved the new values to a column named `z_prices`.\n",
    "\n",
    "- Compute the mean of the `z_prices` column and assign the result to a variable named `z_mean_price`.\n",
    "- Compute the standard deviation of the `z_prices` column and assign the result to a variable named `z_stdev_price`. Assume  the standard deviation for a population.\n",
    "\n",
    "\n",
    "Transform the distribution of the `Lot Area` variable into a distribution of z-scores.\n",
    "\n",
    "- Compute the mean of the new distribution of z-scores and assign the result to a variable named `z_mean_area`.\n",
    "- Compute the standard deviation of the new distribution of z-scores and assign the result to a variable named `z_stdev_area`. Assume that you're computing the standard deviation for a population.\n",
    "\n",
    "Compare the values of `z_mean_price` and `z_mean_area`. Record observtions. How can this be explained?\n",
    "\n",
    "Compare the values of `z_stdev_price` and `z_stdev_area`. What do you observe? How can you explain that?"
   ]
  },
  {
   "cell_type": "code",
   "execution_count": 11,
   "metadata": {},
   "outputs": [
    {
     "name": "stdout",
     "output_type": "stream",
     "text": [
      "-0.0 0.0\n",
      "1.0 1.0\n"
     ]
    }
   ],
   "source": [
    "z_mean_price = round(houses['z_prices'].mean(), 10)\n",
    "z_stdev_price = round(houses['z_prices'].std(ddof = 0), 10)\n",
    "\n",
    "# Transforming Lot Area\n",
    "mean_lot_area = houses['Lot Area'].mean()\n",
    "stdev_lot_area = houses['Lot Area'].std(ddof = 0)\n",
    "houses['z_area'] = houses['Lot Area'].apply(\n",
    "    lambda x: ((x - mean_lot_area) / stdev_lot_area)\n",
    "    )\n",
    "\n",
    "z_mean_area = round(houses.z_area.mean(), 10)\n",
    "z_stdev_area = round(houses.z_area.std(ddof = 0), 10)\n",
    "\n",
    "print(z_mean_price, z_mean_area)\n",
    "print(z_stdev_price, z_stdev_area)"
   ]
  },
  {
   "attachments": {
    "image.png": {
     "image/png": "[encoded data removed]"
    }
   },
   "cell_type": "markdown",
   "metadata": {},
   "source": [
    "### The Standard Distribution\n",
    "\n",
    "Above we have rounded off the z_scores to 10 decimal places to show how close they are to zero (actually these are not zero but very close to zero such as 0.000000000000014299009).\n",
    "\n",
    "In fact, for every distribution of z-scores, the mean is always 0 and the standard deviation is always 1.\n",
    "\n",
    "Consider the transformation of a normally-distributed population of sale prices with mean μ=180000 and standard deviation σ=\n",
    "10000:\n",
    "\n",
    "![image.png](attachment:image.png)\n",
    "\n",
    "Notice that when we transform to z-scores, the initial values are practically relabeled and the relative location of each value in the distribution is perfectly preserved. This explains why the shape of the original distribution is preserved, and it also means that the location of the mean and the standard deviation is preserved as well.\n",
    "\n",
    "The mean is located at 180000 in the initial distribution. In the z-score distribution, the mean has the same location, but now there's a value of 0 at that location because the z-score of 180000 is 0.\n",
    "\n",
    "Notice that the value of the standard deviation (10000) is given by the difference between the value that is one standard deviation above the mean (190000) and the mean (180000): \n",
    "190000 − 180000 = 10000\n",
    "After converting 190000 and 180000 to z-scores, the difference becomes \n",
    "1 − 0 = 1\n",
    ", so the standard deviation of the z-score distribution is 1.\n",
    "\n",
    "$$\\begin{equation}\n",
    "\\mu_z = \\frac{\\mu - \\mu}{\\sigma} = \\frac{0}{\\sigma} = 0\n",
    "\\end{equation}$$\n",
    "\n",
    "$$\\begin{equation}\n",
    "\\sigma_z = \\frac{(\\mu + \\sigma) - \\mu}{\\sigma} =\n",
    "\\frac{\\sigma}{\\sigma} = 1\n",
    "\\end{equation}$$\n",
    "\n",
    "A distribution of z-scores is often called a **standard distribution** (z-scores are also called **standard scores**). When we convert a distribution to z-scores, we'd say in statistical terns that we **standardized the distribution**."
   ]
  },
  {
   "cell_type": "markdown",
   "metadata": {},
   "source": [
    "**Exercise**\n",
    "\n",
    "Standardize the population of values stored in the population variable and compute its mean μz and its standard deviation σz.\n",
    "- Assign the value of μz to a variable named `mean_z`.\n",
    "- Assign the value of σz to a variable named `stdev_z`.\n",
    "- We should get μz = 0  and σz = 1 because there'll be no rounding errors."
   ]
  },
  {
   "cell_type": "code",
   "execution_count": 12,
   "metadata": {
    "scrolled": true
   },
   "outputs": [
    {
     "name": "stdout",
     "output_type": "stream",
     "text": [
      "0.0 1.0\n"
     ]
    }
   ],
   "source": [
    "from numpy import std, mean\n",
    "population = [0,8,0,8]\n",
    "\n",
    "mean_pop = mean(population)\n",
    "stdev_pop = std(population, ddof = 0)\n",
    "\n",
    "std_population = []\n",
    "for value in population:\n",
    "    z_value = (value - mean_pop) / stdev_pop\n",
    "    std_population.append(z_value)\n",
    "    \n",
    "mean_z = mean(std_population)\n",
    "stdev_z = std(std_population, ddof = 0)\n",
    "\n",
    "print(mean_z, stdev_z)\n"
   ]
  },
  {
   "cell_type": "markdown",
   "metadata": {},
   "source": [
    "### Standardizing Samples\n",
    "\n",
    "If we treat the `population` variable above, as a sample and proceed to standardize it we'll use the formula for the sample standard deviation s  (the formula containing Bessel's correction):"
   ]
  },
  {
   "cell_type": "code",
   "execution_count": 13,
   "metadata": {},
   "outputs": [
    {
     "name": "stdout",
     "output_type": "stream",
     "text": [
      "[-0.8660254037844387, 0.8660254037844387, -0.8660254037844387, 0.8660254037844387]\n",
      "0.0\n",
      "0.8660254037844387\n"
     ]
    }
   ],
   "source": [
    "from numpy import std, mean\n",
    "\n",
    "sample = [0,8,0,8]\n",
    "x_bar = mean(sample)\n",
    "s = std(sample, ddof = 1)\n",
    "\n",
    "standardized_sample = []\n",
    "for value in sample:\n",
    "    z = (value - x_bar) / s\n",
    "    standardized_sample.append(z)\n",
    "\n",
    "print(standardized_sample)\n",
    "\n",
    "print(mean(standardized_sample))\n",
    "\n",
    "print(std(standardized_sample)) # ddof = 0 by default"
   ]
  },
  {
   "cell_type": "markdown",
   "metadata": {},
   "source": [
    "Above, we measured the standard deviation using the formula for the population standard deviation σ (the formula without Bessel's correction). When we standardize a sample, the resulting distribution of z-scores is also a sample. This means that we need to use the formula for the sample standard deviation s, when we compute the standard deviation.\n",
    "\n",
    "Below, we compute the standard deviation of `standardized_sample` using the sample standard deviation formula, and assign the result to a variable named `stdev_sample`.\n",
    "We can see below, that the value for `stdev_sample` comes out to be 1."
   ]
  },
  {
   "cell_type": "code",
   "execution_count": 14,
   "metadata": {
    "scrolled": true
   },
   "outputs": [
    {
     "name": "stdout",
     "output_type": "stream",
     "text": [
      "1.0\n"
     ]
    }
   ],
   "source": [
    "stdev_sample = std(standardized_sample, ddof = 1)\n",
    "print(stdev_sample)"
   ]
  },
  {
   "cell_type": "markdown",
   "metadata": {},
   "source": [
    "### Using Standardization for Comparisons\n",
    "\n",
    "Standardizing distributions can prove very useful when we need to compare values coming from different systems of measurement. Let's say there are two companies in Ames which offer services in evaluating overall house quality. Inspectors from each company examine houses and rate them with an index score which describes the overall quality of the house.\n",
    "\n",
    "The inspection itself is quite expensive, and a house owner generally asks the service from only one company. The problem is that each company has its own system of measuring overall quality, which results in index scores that are impossible to compare. Example can be seen below:\n",
    "\n",
    "    index_1\tindex_2\tSalePrice\n",
    "    0\tNaN\t-0.411111\t215000\n",
    "\n",
    "    1\t38.05\tNaN\t105000\n",
    "\n",
    "    2\tNaN\t-0.888889\t172000\n",
    "\n",
    "    3\t39.44\tNaN\t244000\n",
    "\n",
    "    4\tNaN\t-0.690000\t189900\n",
    "\n",
    "\n",
    "Let's suppose that these houses are not yet sold, and a client needs our help to choose between the first and the second house (from the table above). We want to begin with comparing index scores, but the first house has an index of -0.41111, the second's index is 38.05000, and the two indices come from different measurement systems, which makes them impossible to compare.\n",
    "\n",
    "One thing the two systems have in common is that the index is directly proportional with the house quality — a lower index means lower quality, and a higher index means higher quality. To compare these indices coming from different measurement systems, we can:\n",
    "\n",
    "- Standardize each distribution of index values (transform each index to a z-score).\n",
    "- Then compare the z-scores.\n",
    "\n",
    "Average houses will have z-scores around 0 in both distributions, good-quality houses will have z-scores significantly greater than 0, and low-quality houses will have z-scores significantly lower than 0.\n",
    "\n",
    "For the sake of the example, we're also under the strong assumption that both companies evaluate houses of all levels of quality. If a company evaluates only low-quality houses, then the best of the low quality houses will have a z-score significantly greater than 0, suggesting erroneously that they are high-quality."
   ]
  },
  {
   "cell_type": "markdown",
   "metadata": {},
   "source": [
    "```\n",
    "mean_index1 = houses['index_1'].mean()\n",
    "stdev_index1 = houses['index_1'].std(ddof = 0)\n",
    "houses['z_1'] = houses['index_1'].apply(lambda x: \n",
    "                                      (x - mean_index1) / stdev_index1\n",
    "                                     )\n",
    "\n",
    "mean_index2 = houses['index_2'].mean()\n",
    "stdev_index2 = houses['index_2'].std(ddof = 0)\n",
    "houses['z_2'] = houses['index_2'].apply(lambda x: \n",
    "                                      (x - mean_index2) / stdev_index2\n",
    "                                     )\n",
    "\n",
    "print(houses[['z_1', 'z_2']].head(2))\n",
    "better = 'first'\n",
    "\n",
    "\n",
    "z_1       z_2\n",
    "0      NaN  0.429742\n",
    "1 -0.93592       NaN\n",
    "```"
   ]
  },
  {
   "cell_type": "markdown",
   "metadata": {},
   "source": [
    "### Converting back from z-scores\n",
    "Above, we standardized the index_1 and index_2 distributions and managed to solve our comparison task. Z-scores may not be always straightforward to work with or communicate to non-technical audiences, but fortunately we can convert them to other values that are more intuitive.\n",
    "\n",
    "The formula for finding a z-score in a population is:\n",
    "$$\\begin{equation}\n",
    "z = \\frac{x - \\mu}{\\sigma}\n",
    "\\end{equation}$$\n",
    "\n",
    "From above, it can be shown that:\n",
    "\n",
    "$$x = z\\sigma + \\mu$$\n",
    "\n",
    "With above formula we can convert z-scores to more intuitive values. We already have the values for z , but what about μ\n",
    "and σ? We are actually free to choose any values we want for μ and σ. We want some more intuitive values for our two standardized distributions of index values, so let's choose μ=50 and σ=10.\n",
    "\n",
    "The first house has a z score of 0.428742:\n",
    "\n",
    "$$\\begin{equation}\n",
    "0.429742 \\cdot 10 + 50 = 54.29742\n",
    "\\end{equation}$$\n",
    "\n",
    "Each z-score in the distribution will follow the same procedure — it'll be multiplied by 10 and then we'll add 50 to the result of the product. This means that the location of each z-score will be preserved perfectly — it's all a matter of relabeling. To make this transformation, notice that we took several steps:\n",
    "\n",
    "- We standardized an initial distribution with a given μ and σ\n",
    "(we performed this step above when we standardized the distribution of index_1 and index_2).\n",
    "- converted the standardized distribution to values that together have a different mean μ and standard deviation σ than they did initially.\n",
    "\n",
    "For any standardized distribution we can also convert the z-scores back to the original values. All we have to do is use the initial values for μ and σ  in the x=zσ+μ formula. However, it's more common in practice to transform the standardized distribution with convenient values for μ and σ. One practical example include [transforming test scores for the SAT test](https://en.wikipedia.org/wiki/SAT#SAT-ACT_score_comparisons) using μ=500 and σ=110 or [transforming IQ scores from different measurement systems](https://www.edubloxtutor.com/iq-test-scores/) using μ=100 and σ=15. \n",
    "\n",
    "Notice that above we discussed only about populations, but the same reasoning applies to samples."
   ]
  },
  {
   "cell_type": "markdown",
   "metadata": {},
   "source": [
    "**Exercise**\n",
    "The two columns of z-scores are merged together into a new column named `z_merged`.\n",
    "\n",
    "- Transform the standardized distribution of z_merged to a distribution with a μ=50 and σ=10 using the formula x=zσ+μ.\n",
    "- Compute the mean of the newly transformed distribution — the mean should be 50, but expect some minor rounding errors.\n",
    "- Assign the result to a variable named `mean_transformed`.\n",
    "- Compute the standard deviation of the newly transformed distribution — the standard deviation should be 10, but expect some minor rounding errors. Assign the result to a variable named `stdev_transformed`."
   ]
  },
  {
   "cell_type": "markdown",
   "metadata": {},
   "source": [
    "```\n",
    "houses['z_merged_transformed'] = houses.z_merged.apply(lambda x: x*10+50)\n",
    "\n",
    "mean_transformed = houses.z_merged_transformed.mean()\n",
    "stdev_transformed = houses.z_merged_transformed.std(ddof=0)\n",
    "\n",
    "print(mean_transformed, stdev_transformed)\n",
    "\n",
    "50.00000000000001 10.0\n",
    "```"
   ]
  }
 ],
 "metadata": {
  "kernelspec": {
   "display_name": "Python 3",
   "language": "python",
   "name": "python3"
  },
  "language_info": {
   "codemirror_mode": {
    "name": "ipython",
    "version": 3
   },
   "file_extension": ".py",
   "mimetype": "text/x-python",
   "name": "python",
   "nbconvert_exporter": "python",
   "pygments_lexer": "ipython3",
   "version": "3.8.3"
  }
 },
 "nbformat": 4,
 "nbformat_minor": 4
}
