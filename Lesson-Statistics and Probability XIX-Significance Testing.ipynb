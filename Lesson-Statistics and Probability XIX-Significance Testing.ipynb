{
 "cells": [
  {
   "cell_type": "markdown",
   "metadata": {},
   "source": [
    "# Lesson - Statistics and Probability XIX: Significance Testing\n",
    "\n",
    "In this lesson, we'll discuss hypothesis testing and statistical significance. A hypothesis is a pattern or rule about a process in the world that can be tested."
   ]
  },
  {
   "cell_type": "markdown",
   "metadata": {},
   "source": [
    "### Hypothesis Testing\n",
    "\n",
    "We can use hypothesis testing to help us determine answers to various practical question such as:\n",
    "\n",
    "- if a new banner ad on a website caused a meaningful drop in the user engagement,\n",
    "- if raising the price of a product caused a meaningful drop in sales,\n",
    "- if a new weight loss pill helped people lose more weight.\n",
    "\n",
    "Observing a decrease in user engagement or sales after instituting a change doesn't automatically imply that the change was the cause. Hypothesis testing allows us to calculate the probability that random chance was actually responsible for the difference in outcome. Every process has some inherent amount of randomness that we can't measure and understanding the role of chance helps us reach a conclusion that's more likely to be correct.\n",
    "\n",
    "We first set up a **null hypothesis** that describes the status quo. We then state an **alternative hypothesis**, which we used to compare with the null hypothesis to decide which describes the data better. In the end, we either need to:\n",
    "\n",
    "- reject the null hypothesis\n",
    "- fail to reject the null hypothesis\n",
    "\n",
    "We can frame each of the studies above as these rival pairs of hypotheses:\n",
    "\n",
    "if a new banner ad on a website caused a meaningful drop in the user engagement:\n",
    "\n",
    "- null hypothesis: users who were exposed to the banner ad spent the same amount of time on the website than those who weren't.\n",
    "- alternative hypothesis: users who were exposed to the banner ad spent less time on the website than those who weren't.\n",
    "\n",
    "if raising the price of a product caused a meaningful drop in sales:\n",
    "\n",
    "- null hypothesis: the number of purchases of the product was the same at the lower price than it was at the higher price.\n",
    "- alternative hypothesis: the number of purchases of the product was lower at the higher price than it was at the lower price.\n",
    "\n",
    "if a new weight loss pill helped people lose more weight:\n",
    "\n",
    "- null hypothesis: patients who went on the weight loss pill lost no more weight than those who didn't.\n",
    "- alternative hypothesis: patients who went on the weight loss pill lost more weight than those who didn't.\n",
    "\n",
    "In this lesson, we will focus on the 3rd scenario above i.e. whether a weight loss pill helped people lose more weight."
   ]
  },
  {
   "cell_type": "markdown",
   "metadata": {},
   "source": [
    "### Research Design\n",
    "\n",
    "To help us determine if the weight loss pill was effective, we conducted a study where we invited 100 volunteers and split them into 2 even groups randomly:\n",
    "\n",
    "Group A was given a placebo, or fake, pill and instructed to consume it on a daily basis.\n",
    "Group B was given the actual weight loss pill and instructed to consume it on a daily basis.\n",
    "\n",
    "Both groups were instructed to change nothing else about their diets. Group A is referred to as the control group while group B is referred to as the treatment group. This type of study is called a blind experiment since the participants didn't know which pill they were receiving. This helps us reduce the potential bias that is introduced when participants know which pill they were given. For example, participants who are aware they were given the weight loss pill may try to add healthier foods to their diet to help them lose more weight. Both groups were weighed before the study began and a month later, after the study ended.\n",
    "\n",
    "Understanding the **research design** for a study is an important first step that informs the rest of our analysis. It helps us uncover potential flaws in the study that we need to keep in mind as we dive deeper. The weight loss pill study we conducted is known as an experimental study. Experimental studies usually involve bringing in participants, instructing them to perform some tasks, and observing them. A key part of running an experimental study is **random assignment**, which involves assigning participants in the study to random groups without revealing which group each participant is in. Before exploring and analyzing a dataset, it's important to understand how the study was conducted. Flaws in how the study was run can lead us to reach the wrong conclusions."
   ]
  },
  {
   "cell_type": "markdown",
   "metadata": {},
   "source": [
    "### Statistical Significance\n",
    "\n",
    "Statistics helps us determine if the difference in the weight lost between the 2 groups is because of random chance or because of an actual difference in the outcomes. If there is a meaningful difference, we say that the results are **statistically significant**.\n",
    "We can now state our null and alternative hypotheses more precisely. Our **null hypothesis** should describe the default position of skepticism, which is that there's no statistically significant difference between the outcomes of the 2 groups. Put another way, it should state that any difference is due to random chance. Our **alternative hypothesis** should state that there is in fact a statistically significant difference between the outcomes of the 2 groups.\n",
    "\n",
    "**Null hypothesis**: participants who consumed the weight loss pills lost the same amount of weight as those who didn't take the pill.\n",
    "**Alternative hypothesis**: participants who consumed the weight loss pills lost more weight than those who didn't take the pill."
   ]
  },
  {
   "cell_type": "code",
   "execution_count": 1,
   "metadata": {},
   "outputs": [],
   "source": [
    "import pandas as pd\n",
    "import numpy as np\n",
    "import matplotlib.pyplot as plt\n",
    "import seaborn as sns\n",
    "%matplotlib inline\n",
    "# Setting pandas display options for large data\n",
    "pd.options.display.max_rows = 200\n",
    "pd.options.display.max_columns = 150"
   ]
  },
  {
   "cell_type": "code",
   "execution_count": 2,
   "metadata": {},
   "outputs": [
    {
     "name": "stdout",
     "output_type": "stream",
     "text": [
      "<class 'pandas.core.frame.DataFrame'>\n",
      "RangeIndex: 49 entries, 0 to 48\n",
      "Data columns (total 2 columns):\n",
      " #   Column  Non-Null Count  Dtype\n",
      "---  ------  --------------  -----\n",
      " 0   3       49 non-null     int64\n",
      " 1   5       49 non-null     int64\n",
      "dtypes: int64(2)\n",
      "memory usage: 912.0 bytes\n",
      "None\n"
     ]
    }
   ],
   "source": [
    "weight_loss = pd.read_csv('weight_loss.csv')\n",
    "print(weight_loss.info())\n"
   ]
  },
  {
   "cell_type": "code",
   "execution_count": 3,
   "metadata": {
    "scrolled": true
   },
   "outputs": [
    {
     "name": "stdout",
     "output_type": "stream",
     "text": [
      "   A  B\n",
      "0  2  4\n",
      "1  3  5\n",
      "2  4  5\n",
      "3  3  4\n",
      "4  2  5\n"
     ]
    }
   ],
   "source": [
    "# Rename the columns from '3' and '5' to 'A' and 'B'\n",
    "mapper = {'3': 'A', '5': 'B'}\n",
    "weight_loss = weight_loss.rename(columns = mapper)\n",
    "print(weight_loss.head())"
   ]
  },
  {
   "cell_type": "code",
   "execution_count": 4,
   "metadata": {
    "scrolled": true
   },
   "outputs": [
    {
     "name": "stdout",
     "output_type": "stream",
     "text": [
      "2.816326530612245\n",
      "5.346938775510204\n"
     ]
    }
   ],
   "source": [
    "# Calculate mean weight loss in groups A and B\n",
    "print(np.mean(weight_loss['A']))\n",
    "print(np.mean(weight_loss['B']))"
   ]
  },
  {
   "cell_type": "markdown",
   "metadata": {},
   "source": [
    "### Test Statistic\n",
    "\n",
    "To decide which hypothesis more accurately describes the data, we need to frame the hypotheses more quantitatively. The first step is to decide on a **test statistic**, which is a numerical value that summarizes the data and we can use in statistical formulas. We use this test statistic to run a statistical test that will determine how likely the difference between the groups were due to random chance.\n",
    "\n",
    "Since we want to know if the amount of weight lost between the groups is meaningfully different, we will use the difference in the means, also known as the mean difference, of the amount of weight lost for each group as the test statistic.\n",
    "\n",
    "We can now rewrite our hypotheses in mathematical terms as:\n",
    "\n",
    "**Null Hypothesis**: $\\bar{x}_b - \\bar{x}_a = 0$\n",
    "**Alternative Hypothesis**: $\\bar{x}_b - \\bar{x}_a > 0$"
   ]
  },
  {
   "cell_type": "code",
   "execution_count": 5,
   "metadata": {},
   "outputs": [
    {
     "data": {
      "text/plain": [
       "2.53"
      ]
     },
     "execution_count": 5,
     "metadata": {},
     "output_type": "execute_result"
    }
   ],
   "source": [
    "mean_group_a = np.mean(weight_loss['A'])\n",
    "mean_group_b = np.mean(weight_loss['B'])                       \n",
    "mean_difference = round((mean_group_b - mean_group_a), 2)\n",
    "mean_difference                       "
   ]
  },
  {
   "cell_type": "markdown",
   "metadata": {},
   "source": [
    "### Permutation Test\n",
    "We can now, decide on a **statistical test**. The purpose of a statistical test is to work out the likelihood that the result we achieved was due to random chance.\n",
    "\n",
    "The **permutation test** is a statistical test that involves simulating rerunning the study many times and recalculating the test statistic for each iteration. The goal is to calculate a distribution of the test statistics over these many iterations. This distribution is called the **sampling distribution** and it approximates the full range of possible test statistics under the null hypothesis. We can then benchmark the test statistic we observed in the data (a `mean difference` of 2.52) to determine how likely it is to observe this mean difference under the null hypothesis. If the null hypothesis is true, that the weight loss pill doesn't help people lose more weight, than the observed `mean difference` of 2.52 should be quite common in the sampling distribution. If it's instead extremely rare, then we should reject the null hypothesis instead.\n",
    "\n",
    "To simulate rerunning the study, we randomly reassign each data point (weight lost) to either group A or group B. We keep track of the recalculated test statistics as a separate list. By re-randomizing the groups that the weight loss values belong to, we're simulating what randomly generated groupings of these weight loss values would look like. We then use these randomly generated groupings to understand how rare the groupings in our actual data were.\n",
    "\n",
    "Ideally, the number of times we re-randomize the groups that each data point belongs to matches the total number of possible permutations. Usually, the number of total permutations is too high for even powerful supercomputers to calculate within a reasonable time frame. While we'll use 1000 iterations for now since we'll get the results back quickly, we must be mindful of the tradeoff we make between accuracy and speed to determine the optimal number of iterations."
   ]
  },
  {
   "cell_type": "markdown",
   "metadata": {},
   "source": [
    "**Exercise**\n",
    "\n",
    "Below, we have created a list named `all_values` that contains just the weight loss values.\n",
    "\n",
    "- Create an empty list named `mean_differences`.\n",
    "- Inside a for loop that repeats 1000 times:\n",
    " - Assign empty lists to the variables `group_a` and `group_b`.\n",
    " - Inside a for loop that iterates over all_values:\n",
    "  - Use the `numpy.random.rand()` function to generate a value between 0 and 1.\n",
    "  - If the random value is larger than or equal to 0.5, assign that weight loss value to group A by using the `append()` method to append it to `group_a`.\n",
    "  - If the random value is less than 0.5, assign that weight loss value to group B by using the `append()` method to append it to `group_b`.\n",
    "\n",
    "- Outside the for loop that iterates over all_values:\n",
    " - Use the `numpy.mean()` function to calculate the means of group_a and group_b.\n",
    " - Subtract the mean of group A from group B and assign the result to `iteration_mean_difference`.\n",
    " - Append `iteration_mean_difference` to `mean_differences` using the `append()` method.\n",
    "\n",
    "- Use `plt.hist()` to generate a histogram of `mean_differences`"
   ]
  },
  {
   "cell_type": "code",
   "execution_count": 6,
   "metadata": {},
   "outputs": [
    {
     "name": "stdout",
     "output_type": "stream",
     "text": [
      "[2, 4, 3, 5, 4, 5, 3, 4, 2, 5, 2, 7, 2, 5, 1, 4, 3, 3, 2, 3, 3, 5, 1, 10, 3, 3, 4, 4, 1, 9, 3, 7, 2, 6, 1, 9, 3, 4, 4, 2, 3, 5, 2, 7, 3, 7, 7, 7, 2, 5, 3, 4, 2, 8, 5, 9, 1, 6, 1, 7, 1, 6, 3, 7, 2, 6, 4, 3, 10, 5, 2, 5, 3, 4, 2, 2, 5, 3, 6, 3, 2, 5, 3, 6, 2, 9, 3, 7, 4, 6, 1, 4, 3, 5, 3, 4, 1, 3]\n"
     ]
    }
   ],
   "source": [
    "all_values = []\n",
    "\n",
    "for i in range(0, len(weight_loss.A)):\n",
    "    all_values.append(weight_loss['A'][i])\n",
    "    all_values.append(weight_loss['B'][i])   \n",
    "    \n",
    "len(all_values)    \n",
    "print(all_values)"
   ]
  },
  {
   "cell_type": "code",
   "execution_count": 7,
   "metadata": {
    "scrolled": true
   },
   "outputs": [
    {
     "data": {
      "image/png": "[encoded data removed]",
      "text/plain": [
       "<Figure size 432x432 with 1 Axes>"
      ]
     },
     "metadata": {
      "needs_background": "light"
     },
     "output_type": "display_data"
    }
   ],
   "source": [
    "mean_difference = 2.53\n",
    "mean_differences = []\n",
    "\n",
    "for i in range(1000):\n",
    "    group_a = []\n",
    "    group_b = []\n",
    "    \n",
    "    for value in all_values:\n",
    "        distribution_criteria = np.random.rand() # generates a random float between 0 and 1\n",
    "        if distribution_criteria >= 0.5:\n",
    "            group_a.append(value)\n",
    "        else:\n",
    "            group_b.append(value)\n",
    "    iteration_mean_difference = np.mean(group_b) - np.mean(group_a)\n",
    "    mean_differences.append(iteration_mean_difference)\n",
    "\n",
    "fig = plt.figure(figsize=(6, 6))\n",
    "plt.style.use('fivethirtyeight')\n",
    "plt.hist(mean_differences)\n",
    "plt.xlabel('mean differences')\n",
    "plt.ylabel('frequency')\n",
    "plt.xlim(-2, 2)\n",
    "plt.show()    \n",
    " "
   ]
  },
  {
   "cell_type": "markdown",
   "metadata": {},
   "source": [
    "### Sampling Distribution\n",
    "\n",
    "By randomly assigning participants to group A or group B, we account for the effect of random chance. Someone in group B who just happened to lose more weight (but not because of the pills) makes the results look better than they were. By creating many permutations, we're able to see all possible configurations of this error. Creating a histogram enables us to see how likely different values of our test statistic are if we repeated our experiment many times.\n",
    "\n",
    "The histogram we generated above using Matplotlib is a visual representation of the sampling distribution. We will now create a dictionary that contains the values in the sampling distribution so we can benchmark our observed test statistic against it.\n",
    "\n",
    "The keys in the dictionary should be the test statistic and the values should be their frequency: \n",
    "\n",
    "We need to first count up how frequently each value in the list, `mean_differences`, occurs. As we loop over `mean_differences`, we need a way to check if the test statistic is already in our dictionary:\n",
    "\n",
    "- If it is, we look up the value at that key, add 1 to it, and assign the new value to the key.\n",
    "- If it isn't, we add the key to the dictionary and assign the value 1 to it."
   ]
  },
  {
   "cell_type": "markdown",
   "metadata": {},
   "source": [
    "### Dictionary Representation of a Sampling Distribution\n",
    "\n",
    "To check if a key exists in a dictionary, we need to use the `get()` [method](https://docs.python.org/3/library/stdtypes.html#dict.get) to:\n",
    "\n",
    "- return the value at the specified key if it exists in the dictionary or\n",
    "- return another value we specify instead.\n",
    "Here are the parameters the method takes in:\n",
    "- the required parameter is the key we want to look up,\n",
    "- the optional parameter is the default value we want returned if the key is not found.\n",
    "In the following code, we use the get method as an example:"
   ]
  },
  {
   "cell_type": "code",
   "execution_count": 8,
   "metadata": {},
   "outputs": [
    {
     "name": "stdout",
     "output_type": "stream",
     "text": [
      "{'b': 'boat'}\n",
      "False boat\n"
     ]
    }
   ],
   "source": [
    "empty = {}\n",
    "\n",
    "# Since \"a\" isn't a key in empty, the value False is returned.\n",
    "key_a = empty.get(\"a\", False)\n",
    "\n",
    "empty[\"b\"] = \"boat\"\n",
    "\n",
    "# key_b is the value for the key \"b\" in empty.\n",
    "key_b = empty.get(\"b\", False)\n",
    "# \"boat\" is assigned to key_b.\n",
    "print(empty)\n",
    "print(key_a, key_b)"
   ]
  },
  {
   "cell_type": "markdown",
   "metadata": {},
   "source": [
    "```\n",
    "empty = {\"c\": 1}\n",
    "if empty.get(\"c\", False):\n",
    "    # If in the dictionary, grab the value, increment by 1, reassign.\n",
    "    val = empty.get(\"c\")\n",
    "    inc = val + 1\n",
    "    empty[\"c\"] = inc\n",
    "else:\n",
    "    # If not in the dictionary, assign `1` as the value to that key.\n",
    "    empty[\"c\"] = 1\n",
    "    ```"
   ]
  },
  {
   "cell_type": "markdown",
   "metadata": {},
   "source": [
    "**Exercise**\n",
    "\n",
    "Create an empty dictionary called `sampling_distribution` whose keys will be the test statistics and whose values are the frequencies of the test statistics.\n",
    "- Inside a for loop that iterates over `mean_differences`, check if each value exists as a key in `sampling_distribution`:\n",
    "- Use the dictionary method `get()` with a default condition of `False` to check if the current iteration's value is already in `sampling_distribution`.\n",
    "- If it is, increment the existing value in sampling_distribution for that key by 1.\n",
    "- If it isn't, add it to sampling_distribution as a key and assign 1 as the value."
   ]
  },
  {
   "cell_type": "code",
   "execution_count": 9,
   "metadata": {},
   "outputs": [],
   "source": [
    "sampling_distribution = {}\n",
    "\n",
    "for test_statistic in mean_differences:\n",
    "    if sampling_distribution.get(test_statistic, False):\n",
    "        sampling_distribution[test_statistic] += 1\n",
    "    else:\n",
    "        sampling_distribution[test_statistic] = 1"
   ]
  },
  {
   "cell_type": "code",
   "execution_count": 10,
   "metadata": {
    "scrolled": true
   },
   "outputs": [
    {
     "name": "stdout",
     "output_type": "stream",
     "text": [
      "{-0.07190635451504956: 3, 0.03420942845223163: 3, -0.33000000000000007: 2, 0.13294314381270933: 3, 0.1454545454545455: 5, 0.4952380952380957: 1, -0.5475890985324954: 2, -0.5657071339173965: 1, 0.06565656565656486: 3, -0.15094339622641506: 3, 0.03103448275862064: 2, -0.28571428571428514: 5, -0.16666666666666696: 2, 0.686454849498328: 2, 0.3708333333333331: 2, -0.18181818181818166: 3, 0.5596919127086011: 1, 0.037499999999999645: 3, -1.006734006734007: 1, 0.5305947796320072: 1, 0.10401691331923857: 3, 0.34213836477987414: 3, 0.20000000000000018: 1, -0.03103448275862064: 2, 0.4933333333333332: 2, 0.43686868686868685: 3, -0.6883604505632044: 2, -0.08163265306122458: 6, -0.931923890063425: 2, -0.7715517241379306: 1, 0.2448979591836733: 4, 1.1808333333333336: 1, -0.289166666666667: 5, -0.4796645702306077: 2, -0.0008861320336732703: 1, 0.46540880503144644: 2, 0.7017104714226114: 1, -0.7821994009413773: 1, 0.11916666666666664: 6, 0.6355218855218854: 1, 0.5175475687103592: 3, 0.40816326530612246: 2, -0.5589852008456657: 1, -0.0654761904761898: 4, 0.1366876310272538: 3, -0.24833333333333307: 5, 0.10714285714285765: 1, 0.3746349603671253: 6, -0.007822685788787531: 1, 0.5942760942760943: 1, 0.6071428571428572: 1, 0.16666666666666696: 4, 0.12932832707551078: 4, 0.3913793103448273: 2, 0.1920335429769393: 1, 0.4112068965517244: 1, -0.21488294314381307: 4, -0.11597830621610417: 4, 0.12583333333333346: 4, 0.40479246897732146: 1, 0.05952380952380931: 1, 0.0732758620689653: 2, 0.8110137672090114: 1, -0.204081632653061: 2, -0.03420942845223163: 4, 0.47610993657505274: 1, 0.014548566538296726: 4, 0.1904761904761907: 1, -0.4781144781144784: 2, 0.03093645484949814: 5, -0.18689217758985244: 2, -0.09197324414715702: 1, -0.08499999999999996: 3, 0.06257928118393252: 3, 0.10985324947589081: 5, -0.40500000000000025: 1, 0.3571428571428572: 3, -0.39966555183946495: 3, -0.27675585284280935: 2, -0.2928660826032541: 2, 0.3177257525083612: 4, -0.3932346723044393: 1, 0.3787625418060201: 5, 0.19481605351170606: 4, -0.8988095238095233: 1, -0.8241335044929392: 2, -0.7346938775510203: 2, -0.3337505214851899: 1, 0.2968227424749159: 3, 0.09932659932659949: 4, -0.2448979591836733: 3, 0.6012684989429178: 5, 0.017857142857143238: 3, 0.30555555555555536: 3, -0.5683333333333338: 2, -0.13333333333333375: 1, -0.6045150501672238: 2, 0.0: 4, 0.8988095238095233: 1, -0.3708333333333331: 1, -0.5248226950354606: 1, 0.3265306122448983: 3, -0.8979591836734695: 1, 0.2718855218855216: 4, 0.5032594524119953: 1, 0.5381727158948686: 1, 0.7683946488294318: 1, 0.07509386733416701: 8, 0.6500000000000004: 3, 0.2558528428093645: 4, -0.04755944931164002: 3, -0.1355932203389827: 1, -0.5016722408026753: 5, -0.28249999999999975: 5, 0.16326530612244916: 3, -0.8571428571428568: 1, 0.43452380952380976: 5, -0.7274247491638799: 1, 0.013417190775681043: 5, 0.07833333333333314: 2, -0.040816326530611846: 2, -0.2558528428093645: 4, 0.6018518518518521: 3, 0.027672955974843205: 4, -0.23578595317725792: 1, 0.7425949103045468: 1, 0.27675585284280935: 2, 0.4607023411371238: 1, -0.7884615384615383: 1, -0.3571428571428572: 1, -0.051003344481605595: 2, -0.6974999999999998: 1, 0.1403508771929829: 2, 0.6158333333333332: 1, 0.10690235690235728: 1, 0.5117845117845117: 1, 0.9336670838548184: 1, -0.19481605351170606: 3, 0.0884438881935754: 2, 0.5064989517819702: 1, 0.24833333333333307: 2, 0.8949999999999996: 1, 0.33779264214046867: 4, 0.1625380269448069: 1, 0.3612849395077178: 2, -0.2646551724137929: 2, -0.17818339852238108: 1, -0.6832980972515856: 1, 0.2678571428571428: 2, -0.41166666666666707: 1, -0.6016260162601621: 1, -1.0204081632653064: 2, -1.4693877551020407: 1, -0.48214285714285676: 1, 0.9242424242424243: 1, -0.3928571428571428: 2, -0.6435601198117245: 1, 0.7738095238095237: 1, -0.10317124735729433: 1, 0.6832980972515856: 2, -0.4021693783896536: 1, -0.9424999999999999: 1, -0.3517970401691328: 1, 0.4525000000000001: 4, -0.10714285714285765: 2, 0.9584905660377356: 2, 0.8241335044929392: 1, -0.34680134680134644: 3, 0.5178571428571432: 1, 0.8704013377926425: 2, 0.3586956521739131: 3, 0.14057239057239101: 2, 0.010033444816054171: 3, -0.2416666666666667: 3, 0.28571428571428514: 2, 1.0960167714884692: 1, 0.16000000000000014: 3, -0.17391304347826075: 4, 0.04755944931164002: 2, 0.31035940803382633: 4, -0.47695560253699787: 1, -0.05344827586206957: 3, 0.28249999999999975: 1, -0.3586956521739131: 1, -0.07833333333333314: 3, -0.034767492394610855: 2, -1.1020408163265305: 2, -0.4897959183673475: 2, 0.30104821802935033: 3, 0.19774718397997537: 1, 0.6851153039832285: 1, -0.09932659932659949: 3, 0.4489795918367343: 1, 0.016835016835016425: 2, -0.13294314381270933: 4, -0.614462986735131: 2, 0.17021276595744705: 2, -0.6018518518518521: 1, -0.3209242618741981: 1, 0.07190635451504956: 3, 0.7672955974842766: 1, -0.4338896020539158: 1, -0.1538461538461542: 4, -0.19512195121951237: 1, -0.30104821802935033: 1, -0.8927826449728826: 3, 0.33947368421052637: 1, 0.27421383647798736: 2, -0.4705387205387206: 1, -0.6938775510204085: 3, 0.4897959183673475: 2, -0.30808729139922963: 2, -0.14880952380952372: 2, -0.18017241379310311: 1, 0.849475890985325: 2, -0.1783154121863797: 1, -0.7065217391304346: 1, 0.44289044289044277: 1, -0.43857442348008346: 2, -0.15686274509803955: 1, 0.8005050505050502: 1, -0.4489795918367343: 4, 0.23863162286191075: 1, 0.4972882770129323: 3, -0.27421383647798736: 1, -0.3204005006257824: 2, 0.983333333333333: 1, -0.2795160617438466: 4, -0.40816326530612246: 3, -0.006675010429703754: 4, -0.07509386733416701: 5, 0.6448275862068966: 1, 0.2643097643097647: 1, -0.6646551724137928: 1, -0.20750000000000002: 4, -0.09559748427672954: 1, 0.22241379310344822: 1, 0.40500000000000025: 2, -0.41551939924906156: 2, -0.41807909604519766: 1, 0.4705387205387206: 2, 0.5750000000000002: 1, -0.31120507399577146: 1, -0.6851153039832285: 2, 1.151439299123905: 1, -0.6845238095238093: 1, 0.0930030421555843: 1, -0.32672413793103505: 3, -0.3491379310344831: 1, -0.21052631578947345: 1, -0.06257928118393252: 1, -0.5750000000000002: 2, -0.3787625418060201: 5, 0.12244897959183731: 1, 0.2519816437213178: 5, 0.6065915727993318: 1, -0.35639412997903586: 2, -0.7668350168350164: 1, 1.0448275862068965: 1, 0.6454849498327762: 1, -0.11916666666666664: 3, -0.21109720483938244: 8, -0.024410774410774216: 4, -0.16326530612244916: 3, -0.19774718397997537: 2, -0.5274999999999999: 1, 0.6854942233632859: 1, 0.7274247491638799: 2, 0.21109720483938244: 1, -0.7755102040816326: 2, 0.7346938775510203: 1, -0.6091666666666664: 2, 0.0654761904761898: 1, -0.10119047619047628: 1, 0.2008333333333332: 3, 0.30595393307257757: 1, 0.6608260325406761: 1, -0.5606060606060601: 4, -0.013417190775681043: 2, 0.8199999999999998: 1, 0.8133333333333339: 1, -0.23863162286191075: 5, -0.04430660168365019: 1, -0.6011904761904763: 1, 0.14285714285714324: 1, -1.2216666666666662: 1, -0.7592592592592591: 1, -0.350021394950792: 1, 0.39966555183946495: 1, 0.36734693877551017: 2, 0.3932346723044393: 2, -0.6854942233632859: 1, 0.23578595317725792: 3, -0.30555555555555536: 1, 0.6908333333333334: 2, 0.3974842767295601: 1, -0.5836120401337794: 2, 0.6199415936587398: 2, -0.31313131313131315: 2, -0.5530303030303032: 1, -0.4839382561535248: 2, -0.686454849498328: 1, -0.03093645484949814: 2, -0.7316666666666669: 2, 0.22306397306397274: 2, 0.004385964912280826: 1, 0.849048625792812: 1, -0.06876310272536745: 2, -0.11287625418060276: 4, 0.204081632653061: 1, -0.004385964912280826: 1, 0.4197324414715715: 3, -0.60293501048218: 1, 0.011206896551724022: 2, 0.007822685788787531: 1, -1.0143097643097643: 1, -0.7530398322851153: 1, -0.44305381727158943: 1, 0.7530398322851153: 1, 0.15686274509803955: 2, 0.43509082853345094: 1, 0.11597830621610417: 6, 0.1538461538461542: 3, -0.7678571428571428: 1, 0.051003344481605595: 4, 0.3928571428571428: 1, -0.020295983086681346: 2, -0.0884438881935754: 2, -0.3940803382663849: 3, 0.06876310272536745: 1, -0.21886792452830228: 2, 0.4866666666666668: 3, 1.0549266247379459: 1, 0.4458333333333333: 3, -0.2519816437213178: 1, 0.4346723044397458: 2, -0.6566666666666672: 1, -0.5238095238095242: 1, 0.3880471380471384: 2, 0.4839382561535248: 2, 0.17777777777777803: 2, -0.5381727158948686: 1, 0.5274999999999999: 2, 0.4021693783896536: 2, -0.3153039832285116: 3, -0.4952380952380957: 1, -0.4406354515050164: 2, 0.5589852008456657: 1, 0.05344827586206957: 2, -0.2599580712788261: 1, -0.4761904761904763: 1, 0.9358333333333335: 1, -0.16754385964912277: 1, -0.3612849395077178: 2, -0.12583333333333346: 2, -0.4866666666666668: 1, -0.43551797040169093: 1, -0.8083857442348008: 1, -1.159606332905434: 1, 1.1571906354515056: 1, 0.890572390572391: 1, 0.2599580712788261: 1, 0.6120071684587813: 1, -0.6530612244897953: 1, 0.31120507399577146: 2, 0.7725: 1, -0.12932832707551078: 1, 0.8913043478260869: 1, -0.7725: 1, -0.9727463312368974: 1, 0.8498942917547563: 1, -0.6921052631578943: 1, 0.5193602693602695: 2, -0.010033444816054171: 1, 0.2789901583226362: 1, -0.06565656565656486: 2, -0.22832980972515848: 2, -0.1366876310272538: 1, -0.6012684989429178: 1, 0.21488294314381307: 3, -0.20000000000000018: 1, 1.1176722293538721: 1, 1.105833333333333: 1, 0.5614950021729683: 1, -0.5598308668076108: 1, -0.30595393307257757: 1, 0.6488095238095242: 1, 0.044166666666667354: 1, 0.23705605477107428: 1, 0.43857442348008346: 1, -0.8608333333333329: 2, 0.058080808080807955: 1, -0.36285836542576: 1, 0.18181818181818166: 2, 0.17391304347826075: 2, -0.03859649122807074: 1, -0.4336206896551724: 1, -0.23312368972746356: 1, -0.47582370560547727: 1, 0.8083857442348008: 1, 0.48214285714285676: 1, -0.3641666666666663: 3, -0.2008333333333332: 2, -0.5193602693602695: 2, 0.45640383813099694: 1, 1.181395348837209: 1, -0.09841677364142054: 1, 0.9387755102040818: 2, 0.5606060606060601: 2, -0.8571428571428577: 1, 0.6566666666666672: 1, -0.2321428571428572: 1, -0.8949999999999996: 1, -0.6904761904761907: 1, 0.5530303030303032: 1, 1.1020408163265305: 1, -0.5207547169811324: 1, 0.8163265306122445: 1, -0.027672955974843205: 1, 0.8352201257861633: 1, -0.17021276595744705: 1, -0.39113428943937434: 1, -0.5714285714285712: 2, 0.3832285115303984: 2, -0.6427061310782238: 2, -0.5942760942760943: 1, -1.05708245243129: 1, -0.014548566538296726: 1, -0.39195549850235345: 1, -1.0287859824780976: 1, 0.2416666666666667: 3, -0.17777777777777803: 2, -0.4933333333333332: 1, -0.037499999999999645: 3, 0.09559748427672954: 2, 0.9318181818181817: 1, 0.35437710437710424: 1, -0.947017104714226: 1, 0.18689217758985244: 1, 0.30952380952380976: 1, -0.47610993657505274: 1, 0.6938413823659721: 1, -0.14285714285714324: 1, 0.5225752508361201: 1, 0.14814814814814792: 3, 0.7255892255892258: 1, 0.08163265306122458: 1, -0.05041286397218592: 1, 0.040816326530611846: 2, -0.5595238095238093: 2, -0.1745680106335845: 2, 0.7383333333333328: 1, 0.3233333333333337: 3, -0.8095238095238098: 1, 0.348245614035088: 1, 0.2928660826032541: 2, 0.08499999999999996: 3, -1.1845238095238098: 1, -0.2422413793103444: 1, -0.8133333333333339: 2, 0.7262054507337528: 1, 1.2391304347826084: 1, 0.9061326658322906: 1, 0.05450733752620529: 1, 0.306896551724138: 1, -0.895164741121095: 1, 0.7316666666666669: 2, -0.3832285115303984: 1, 1.3033333333333332: 1, -0.6474760116812686: 1, 0.9322742474916388: 1, 0.0033333333333329662: 2, -0.5603448275862073: 1, 0.34680134680134644: 2, -0.5117845117845117: 1, 0.4243186582809222: 1, 0.4336206896551724: 1, 0.08157894736842142: 1, -0.14814814814814792: 1, 0.6061403508771925: 1, -0.7180134680134684: 1, -0.5790571547768044: 1, 0.6091666666666664: 1, -0.5341666666666671: 2, 0.48160535117056824: 3, 0.895164741121095: 1, -0.6355218855218854: 1, 0.4292929292929295: 1, 0.23063973063973053: 2, -0.22619047619047628: 1, 0.9727463312368974: 1, 0.30808729139922963: 1, -0.9358333333333335: 1, 0.006675010429703754: 2, -0.8704013377926425: 1, -0.6608260325406761: 1, 0.5618448637316567: 2, -0.06173361522198739: 2, -0.5306122448979593: 1, 0.7162103433289873: 1, -0.2689217758985203: 1, -0.4292929292929295: 3, -0.044166666666667354: 1, 0.22619047619047628: 1, 0.7588005215123856: 1, -0.7402652973898154: 1, 0.4758620689655171: 2, -0.3880471380471384: 1, -0.46540880503144644: 1, 0.31313131313131315: 1, 0.2321428571428572: 1, 0.35639412997903586: 1, -0.4346723044397458: 2, -0.36734693877551017: 1, -0.016835016835016425: 1, 0.43551797040169093: 1, -0.8112965340179721: 1, 0.09035087719298218: 2, -0.3746349603671253: 1, 0.11287625418060276: 1, 0.44305381727158943: 1, -0.3265306122448983: 2, -0.5596919127086011: 1, -0.7425949103045468: 1, 0.20750000000000002: 1, 0.6430976430976432: 1, -0.8763102725366876: 1, -0.7383333333333328: 2, 0.8763102725366876: 1, 0.3153039832285116: 2, -0.23063973063973053: 1, 0.6530612244897953: 2, -0.3526427061310784: 1, -0.05952380952380931: 1, 0.024410774410774216: 1, -0.14460887949260037: 2, -0.2738095238095237: 1, -0.16000000000000014: 1, -1.2332081768877767: 1, -0.6767676767676765: 1, -0.45640383813099694: 1, -0.4534482758620686: 1, 0.3204005006257824: 2, 1.0143097643097643: 1, -0.6428571428571423: 1, 0.15094339622641506: 1, 0.44672657252888337: 1, -0.34213836477987414: 1, 0.3641666666666663: 1, 1.0287859824780976: 1, 0.8294314381270897: 1, 0.6040851803563667: 1, -0.39562289562289576: 1, -0.2718855218855216: 1, -0.023809523809523725: 1, -0.6708595387840672: 1, -0.5032594524119953: 1, -0.0033333333333329662: 1}\n"
     ]
    }
   ],
   "source": [
    "print(sampling_distribution)"
   ]
  },
  {
   "cell_type": "markdown",
   "metadata": {},
   "source": [
    "### P value\n",
    "\n",
    "In the sampling distribution we generated, most of the values are closely centered around the mean difference of 0. This means that if it were purely up to chance, both groups would have lost the same amount of weight (the null hypothesis). But since the observed test statistic is not near 0, it could mean that the weight loss pills could be responsible for the mean difference in the study.\n",
    "\n",
    "We can now use the sampling distribution to determine the number of times a value of 2.52 or higher appeared in our simulations. If we then divide that frequency by 1000, we'll have the probability of observing a mean difference of 2.52 or higher purely due to random chance.\n",
    "\n",
    "This probability is called the **p value**. If this value is high, it means that the difference in the amount of weight both groups lost could have easily happened randomly and the weight loss pills probably didn't play a role. On the other hand, a low p value implies that there's an incredibly small probability that the mean difference we observed was because of random chance.\n",
    "\n",
    "In general, it's good practice to set the p value threshold before conducting the study:\n",
    "\n",
    "if the p value is less than the threshold, we:\n",
    "\n",
    "- reject the null hypothesis that there's no difference in mean amount of weight lost by participants in both groups,\n",
    "- conclude that there is some evidence that the weight loss pill does affect the amount of weight people lost.\n",
    "\n",
    "if the p value is greater than the threshold, we:\n",
    "\n",
    "- fail to reject the null hypothesis that there's no difference in the mean amount of weight lost by participants in both groups,\n",
    "- conclude that the weight loss pill doesn't seem to be effective in helping people lose more weight.\n",
    "\n",
    "The most common p value threshold is `0.05` or 5%."
   ]
  },
  {
   "cell_type": "markdown",
   "metadata": {},
   "source": [
    "**Exercise**\n",
    "\n",
    "- Create an empty list named `frequencies`.\n",
    "- Inside a for loop that iterates over the keys in `sampling_distribution`:\n",
    "  - If the key is 2.52 or larger, add its value to `frequencies` (and do nothing if it isn't).\n",
    "- Outside the for loop, use the NumPy function `sum()` to calculate the sum of the values in `frequencies`.\n",
    "- Divide the sum by 1000 and assign to p_value."
   ]
  },
  {
   "cell_type": "code",
   "execution_count": 15,
   "metadata": {},
   "outputs": [
    {
     "name": "stdout",
     "output_type": "stream",
     "text": [
      "0.0\n"
     ]
    }
   ],
   "source": [
    "frequencies = []\n",
    "for key in sampling_distribution.keys():\n",
    "    if key >= 2.52:\n",
    "        frequencies.append(sampling_distribution[key])\n",
    "    \n",
    "p_value = np.sum(frequencies)/1000\n",
    "print(p_value)\n",
    "            "
   ]
  },
  {
   "cell_type": "markdown",
   "metadata": {},
   "source": [
    "### Some Caveats\n",
    "\n",
    "Since the p value of 0 is less than the threshold we set of 0.05, we conclude that the difference in weight lost can't be attributed to random chance alone. We therefore reject the null hypothesis. A few caveats:\n",
    "\n",
    "- Research design is incredibly important and can bias our results. For example, if the participants in group A realized they were given placebo sugar pills, they may modify their behavior and affect the outcome.\n",
    "- The p value threshold we set can also affect the conclusion we reach.\n",
    "- If we set too high of a p value threshold, we may reject the null hypothesis incorrectly. This is known as a `type I error`.\n",
    "- If we set too low of a p value threshold, we may fail to reject the null hypothesis incorrectly. This is known as a `type II error`."
   ]
  }
 ],
 "metadata": {
  "kernelspec": {
   "display_name": "Python 3",
   "language": "python",
   "name": "python3"
  },
  "language_info": {
   "codemirror_mode": {
    "name": "ipython",
    "version": 3
   },
   "file_extension": ".py",
   "mimetype": "text/x-python",
   "name": "python",
   "nbconvert_exporter": "python",
   "pygments_lexer": "ipython3",
   "version": "3.8.3"
  }
 },
 "nbformat": 4,
 "nbformat_minor": 4
}
