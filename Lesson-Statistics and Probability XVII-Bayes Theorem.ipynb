{
 "cells": [
  {
   "cell_type": "markdown",
   "metadata": {},
   "source": [
    "# Lesson - Statistics and Probability XVII: Bayes Theorem\n",
    "\n",
    "In this lesson, we'll discuss Bayes' theorem, which is a central topic in probability."
   ]
  },
  {
   "cell_type": "markdown",
   "metadata": {},
   "source": [
    "### Independence versus Exclusivity\n",
    "\n",
    "Two events A and B are independent if the occurrence of one doesn't change the probability of the other. In mathematical terms, we've seen A and B are independent if any of the conditions below are true:\n",
    "\n",
    "$$\\begin{equation}\n",
    "P(A) = P(A|B) \\\\\n",
    "P(B) = P(B|A) \\\\\n",
    "P(A \\cap B) = P(A) \\cdot P(B) \n",
    "\\end{equation}$$\n",
    "\n",
    "Two events — A and B — are mutually exclusive if they cannot occur both at the same time. If one event happens, the other cannot possibly happen anymore, and vice-versa. Examples of mutually exclusive events include:\n",
    "\n",
    "Getting a 5 (event A) and getting a 3 (event B) when we roll a regular six-sided die — it's impossible to get both a 5 and a 3.\n",
    "A coin lands on heads (event A) and tails (event B) — it's impossible to flip a coin and see it landing on both heads and tails.\n",
    "\n",
    "If two events A and B are mutually exclusive, then it's impossible that they both occur, which means (A ∩ B) is an impossible event (and the probability of impossible events is always 0):\n",
    "$$\\begin{equation}\n",
    "P(A \\cap B) = 0 \n",
    "\\end{equation}$$\n",
    "\n",
    "Both independence and exclusivity describe the relationship between two or more events, and we see that they have different mathematical meanings:\n",
    "\n",
    "$$\\begin{aligned}\n",
    "\\text{Independence} &\\implies P(A \\cap B) = P(A) \\cdot P(B) \\\\\n",
    "\\text{Dependence} &\\implies P(A \\cap B) = P(A) \\cdot P(B|A) \\\\\n",
    "\\text{Exclusivity} &\\implies P(A \\cap B) = 0 \n",
    "\\end{aligned}$$\n",
    "\n",
    "Let's take a quick look at a few examples. Say we roll a fair six-sided die twice and consider these four events:\n",
    "\n",
    "- Event A: We get a 4 on the first roll.\n",
    "- Event B: We get a 2 on the second roll.\n",
    "- Event C: We get an even number on the first roll.\n",
    "- Event D: We get a 5 on the first roll.\n",
    "\n",
    "If event A happens, then the probability of event B stays the same, since the result of the first roll doesn't influence the result of the second one in any way — this means A and B are independent. Also, we can get a 4 on the first roll (event A) and a 2 on the second roll (event B), which means A and B are not mutually exclusive.\n",
    "\n",
    "Now let's look at the relationship between events A and C. If C happens, then the probability of A changes, and vice-versa. This means A and C are dependent. Also, if the outcome was 4, then we'd get a 4 (event A) and an even number (event C) at the same time, which means A and C are not mutually exclusive.\n",
    "\n",
    "However, if we look at events A and D, we see they cannot possibly happen together — we cannot get both a 4 and a 5 on the first roll. This means event A and D are mutually exclusive. Since A and D cannot possibly happen together, it becomes meaningless to talk about independence since the concept of independence makes sense only as long as both events can happen."
   ]
  },
  {
   "cell_type": "markdown",
   "metadata": {},
   "source": [
    "For the exercises below, consider the following probabilities:\n",
    "\n",
    "- The probability of being infected with HIV is 0.00014. That is P(HIV)=0.00014.\n",
    "- The probability of being infected with HIV given a positive result from an HIV test is 0.03. That is P(HIV|T+)=0.03.\n",
    "\n",
    "Assess with True or False the following statements:\n",
    "\n",
    "- Events HIV and T+ are independent. If  this statement is true, then assign the boolean True to `statement_1`, otherwise assign False.\n",
    "- Events HIV and HIVC are mutually exclusive. If you think this statement is true, then assign the boolean True to `statement_2`, otherwise assign False.\n",
    "- Events HIVC and T+ are dependent. If you think this statement is true, then assign the boolean True to `statement_3`, otherwise assign False."
   ]
  },
  {
   "cell_type": "code",
   "execution_count": 1,
   "metadata": {},
   "outputs": [],
   "source": [
    "statement_1 = False\n",
    "statement_2 = True\n",
    "statement_3 = True"
   ]
  },
  {
   "attachments": {
    "image.png": {
     "image/png": "[encoded data removed]"
    }
   },
   "cell_type": "markdown",
   "metadata": {},
   "source": [
    "### Example\n",
    "\n",
    "Probabilities addition follows the following rule:\n",
    "$$\\begin{equation}\n",
    "P(A \\cup B) = P(A) + P(B) - P(A \\cap B) \n",
    "\\end{equation}$$\n",
    "\n",
    "If events A and B are mutually exclusive, then P(A∩B)=0. Therefore, the addition rule for mutually exclusive events reduces to:\n",
    "\n",
    "$$\\begin{aligned}\n",
    "P(A \\cup B) &= P(A) + P(B) - 0 \\\\\n",
    "P(A \\cup B) &= P(A) + P(B)\n",
    "\\end{aligned}$$\n",
    "\n",
    "With this in mind, let's consider the probabilities associated with testing for an HIV test:\n",
    "\n",
    "- The probability of getting a positive test result given that a patient is not infected with HIV is 1.05%. That is P(T+|HIVC)=0.0105.\n",
    "- The probability of getting a positive test result given that a patient is infected with HIV is 99.78%. That is P(T+|HIV)=0.9978.\n",
    "- The probability of being infected with HIV is 0.14%. That is P(HIV)=0.0014.\n",
    "- The probability of not being infected with HIV is 99.86%. That is P(HIVC)=0.9986.\n",
    "\n",
    "Now what if we just want to find P(T+), the probability that a person selected at random will get a positive result? There are two possible scenarios when someone gets a positive result:\n",
    "\n",
    "- The person is infected with HIV and gets a positive result.\n",
    "- The person is not infected with HIV and gets a positive result.\n",
    "\n",
    "In the first scenario, note that two events happen: HIV and T+. In set notation, we write (HIV ∩ T+) if both HIV and T+ occur. In the second scenario, two events happen: HIVC and T+. In set notation, we write (HIVC ∩ T+) if both HIVC and T+ happen. Since there are only two possible scenarios, we can understand the event T+ as the union of the events (HIV ∩ T+) and (HIVC ∩ T+):\n",
    "$$\\begin{equation}\n",
    "T^+ = (HIV \\cap T^+) \\cup (HIV^C \\cap T^+)\n",
    "\\end{equation}$$\n",
    "\n",
    "We can visualize this set union using a Venn diagram:\n",
    "![image.png](attachment:image.png)\n",
    "\n",
    "The events $(HIV ∩ T+)$ and $(HIVC ∩ T+)$ are mutually exclusive (they cannot happen both at the same time), because a person tested positive cannot both have and not have HIV. This means that we can calculate the probability of their union using the addition rule $P(A \\cup B) = P(A) + P(B)$\n",
    "\n",
    "$$begin{equation}\n",
    "P(\\overbrace{T^+}^{A \\cup B}) = P((\\overbrace{HIV \\cap T^+}^{A}) \\cup (\\overbrace{HIV^C \\cap T^+}^{B}))\n",
    "\\end{equation}$$\n",
    "\n",
    "$$\\begin{equation}\n",
    "P(T^+) = P(HIV \\cap T^+) + P(HIV^C \\cap T^+)\n",
    "\\end{equation}$$\n",
    "\n",
    "Using the multiplication rule on $P(HIV ∩ T+)$ and $P(HIVC ∩ T+)$, the last equation above becomes:\n",
    "\n",
    "$$\\begin{equation}\n",
    "P(T^+) = P(HIV) \\cdot P(T^+ | HIV) + P(HIV^C) \\cdot P(T^+ | HIV^C)\n",
    "\\end{equation}$$\n",
    "\n",
    "\n",
    "All the probabilities we need were listed earlier, which means we can find P(T+):\n",
    "\n",
    "$$\\begin{aligned}\n",
    "P(T^+) &= 0.0014 \\cdot 0.9978 + 0.9986 \\cdot 0.0105 \\\\\n",
    "&= 0.0119\n",
    "\\end{aligned}$$\n",
    "\n",
    "We see P(T+) — the probability of testing positive — is only 1.19%. This is mostly because the probability of having HIV is very low in the first place."
   ]
  },
  {
   "cell_type": "markdown",
   "metadata": {},
   "source": [
    "**Exercise**\n",
    "We can find the word \"secret\" in many spam emails. However, some emails are not spam even though they contain the word \"secret.\" Let's say we know the following probabilities:\n",
    "\n",
    "- The probability of getting a spam email is 23.88%. That is P(Spam)=0.2388.\n",
    "- The probability of an email containing the word \"secret\" given that the email is spam is 48.02%. That is P(\"secret\"|Spam)=0.4802.\n",
    "- The probability of an email containing the word \"secret\" given that the email is not spam is 12.84%. That is P(\"secret\"|SpamC)=0.1284.\n",
    "Calculate:\n",
    "\n",
    "- P(SpamC). Assign the result to `p_non_spam`.\n",
    "- P(Spam ∩ \"secret\"). Assign the result to `p_spam_and_secret`.\n",
    "- P(SpamC ∩ \"secret\"). Assign the result to `p_non_spam_and_secret`.\n",
    "- P(\"secret\"). Assign the result to `p_secret`.\n"
   ]
  },
  {
   "cell_type": "code",
   "execution_count": 2,
   "metadata": {},
   "outputs": [
    {
     "name": "stdout",
     "output_type": "stream",
     "text": [
      "0.7612 0.11467176000000001 0.0978142 0.21248596000000003\n"
     ]
    }
   ],
   "source": [
    "p_spam = 0.2388\n",
    "p_secret_given_spam = 0.4802\n",
    "p_secret_given_non_spam = 0.1285\n",
    "\n",
    "p_non_spam = 1 - p_spam\n",
    "p_spam_and_secret = p_spam * p_secret_given_spam\n",
    "p_non_spam_and_secret = p_non_spam * p_secret_given_non_spam\n",
    "p_secret = p_spam_and_secret + p_non_spam_and_secret \n",
    "\n",
    "print(p_non_spam, p_spam_and_secret, p_non_spam_and_secret, p_secret)\n"
   ]
  },
  {
   "attachments": {
    "image.png": {
     "image/png": "[encoded data removed]"
    }
   },
   "cell_type": "markdown",
   "metadata": {},
   "source": [
    "### General Formula\n",
    "\n",
    "The events HIV and HIVC are **mutually exclusive** and **exhaustive**. If two events are exhaustive, it means they make up the whole sample space Ω. This is how we could represent HIV and HIVC on a Venn diagram:\n",
    "\n",
    "![image.png](attachment:image.png)\n"
   ]
  },
  {
   "attachments": {
    "image.png": {
     "image/png": "[encoded data removed]"
    }
   },
   "cell_type": "markdown",
   "metadata": {},
   "source": [
    "We can also add the event T+ on the diagram above, which will show us visually why $T^+ = (HIV \\cap T^+) \\cup (HIV^C \\cap T^+)$\n",
    "![image.png](attachment:image.png)\n",
    "\n",
    "Now we need to develop a general formula that reflects the way we calculated P(T+) above:\n",
    "$$\\begin{equation}\n",
    "P(T^+) = P(HIV \\cap T^+) + P(HIV^C \\cap T^+)\n",
    "\\end{equation}$$"
   ]
  },
  {
   "attachments": {
    "image.png": {
     "image/png": "[encoded data removed]"
    }
   },
   "cell_type": "markdown",
   "metadata": {},
   "source": [
    " If instead of T+, HIV, and HIVC, we have A, B, and BC:\n",
    " \n",
    " ![image.png](attachment:image.png)\n",
    " \n",
    " With this in mind, we can now develop a general formula for P(A):\n",
    " \n",
    " $$\\begin{equation}\n",
    "P(A) = P(B \\cap A) + P(B^C \\cap A)\n",
    "\\end{equation}$$\n",
    "\n",
    "Using the multiplication rule on P(B ∩ A) and P(BC ∩ A), the above formula becomes:\n",
    "\n",
    "$$\\begin{equation}\n",
    "P(A) = P(B) \\cdot P(A|B) + P(B^C) \\cdot P(A|B^C)\n",
    "\\end{equation}$$\n",
    "\n",
    "This formula plays a critical role in the Bayes Theorem."
   ]
  },
  {
   "cell_type": "markdown",
   "metadata": {},
   "source": [
    "**Exercise**\n",
    "\n",
    "An airline transports passengers using two types of planes: a Boeing 737 and an Airbus A320.\n",
    "\n",
    "- The Boeing operates 73% of the flights. Out of these flights, 3% arrive at the destination with a delay.\n",
    "- The Airbus operates the remaining 27% of the flights. Out of these flights, 8% arrive with a delay.\n",
    "Convert the percentages above to probabilities:\n",
    "\n",
    "- Assign the probability of flying with a Boeing to`p_boeing` (to better understand what this probability means, imagine a passenger having bought a ticket with this airline — what's the probability that this passenger will be assigned to fly to her destination with a Boeing?).\n",
    "- Assign the probability of flying with an Airbus to `p_airbus`.\n",
    "- Assign the probability of arriving at the destination with a delay given that the passenger flies with a Boeing to `p_delay_given_boeing`.\n",
    "- Assign the probability of arriving at the destination with a delay given that the passenger flies with an Airbus to `p_delay_given_airbus`.\n",
    "\n",
    "Calculate:\n",
    "\n",
    " The probability that a passenger will arrive at her destination with a delay. Assign answer to `p_delay`. "
   ]
  },
  {
   "cell_type": "code",
   "execution_count": 3,
   "metadata": {},
   "outputs": [
    {
     "name": "stdout",
     "output_type": "stream",
     "text": [
      "0.0435\n"
     ]
    }
   ],
   "source": [
    "p_boeing = 0.73\n",
    "p_airbus = 0.27\n",
    "\n",
    "p_delay_given_boeing = 0.03\n",
    "p_delay_given_airbus = 0.08\n",
    "\n",
    "p_delay = p_boeing * p_delay_given_boeing + p_airbus * p_delay_given_airbus\n",
    "\n",
    "print(p_delay)"
   ]
  },
  {
   "attachments": {
    "image.png": {
     "image/png": "[encoded data removed]"
    }
   },
   "cell_type": "markdown",
   "metadata": {},
   "source": [
    "### Formula for Three Events\n",
    "\n",
    "Above, we used this formula to calculate the probability of having a delay when flying with a particular airline:\n",
    "$$\\begin{equation}\n",
    "P(A) = P(B) \\cdot P(A|B) + P(B^C) \\cdot P(A|B^C)\n",
    "\\end{equation}$$\n",
    "\n",
    "Recall that the airline transports passengers using two types of planes: a Boeing 737 and an Airbus A320. This allowed us to model P(Delay) as:\n",
    "\n",
    "$$\\begin{equation}\n",
    "\\overbrace{P(Delay)}^{P(A)} = \\overbrace{P(Boeing) \\cdot P(Delay|Boeing)}^{P(B) \\cdot P(A|B)} + \\overbrace{P(Airbus) \\cdot P(Delay|Airbus)}^{P(B^C) \\cdot P(A|B^C)}\n",
    "\\end{equation}$$\n",
    "\n",
    "However, let's consider another airline which has three types of planes: a Boeing 737, an Airbus A320, and an ERJ 145.\n",
    "\n",
    "- The Boeing operates 58% of the flights. Out of these flights, 4% arrive at the destination with a delay.\n",
    "- The Airbus operates 31% of the flights. Out of these flights, 7% arrive with a delay.\n",
    "- The ERJ operates the remaining 11% of the flights. Out of these flights, 2% arrive with a delay.\n",
    "\n",
    "A passenger buying a ticket with this airline will be assigned to only one of the three types of airplanes. This means that the sample space is made up of three events that are all **mutually exclusive** and **exhaustive**. On a Venn diagram, we have:\n",
    "\n",
    "![image.png](attachment:image.png)"
   ]
  },
  {
   "attachments": {
    "image.png": {
     "image/png": "[encoded data removed]"
    }
   },
   "cell_type": "markdown",
   "metadata": {},
   "source": [
    "After adding the event Delay on the above Venn diagram:\n",
    "\n",
    "![image.png](attachment:image.png)\n",
    "\n",
    "udging by the diagram, we can see that P(Delay) is:\n",
    "\n",
    "$$\\begin{equation}\n",
    "P(Delay) = P(Boeing \\cap Delay) + P(Airbus \\cap Delay) + P(ERJ \\cap Delay)\n",
    "\\end{equation}$$\n",
    "\n",
    "Using the multiplication rule, the equation above becomes:\n",
    "\n",
    "$$\\begin{aligned}\n",
    "P(Delay) &= P(Boeing) \\cdot P(Delay|Boeing) + P(Airbus) \\cdot P(Delay|Airbus) + P(ERJ) \\cdot P(Delay|ERJ) \\\\\n",
    "&= 0.58 \\cdot 0.04 + 0.31 \\cdot 0.07 + 0.11 \\cdot 0.02 = 0.05\n",
    "\\end{aligned}$$\n",
    "\n",
    "To develop a more general formula, imagine that instead of the events Delay, Boeing, Airbus, and ERJ, we have events A, B1, B2, and B3:\n",
    "\n",
    "$$\\begin{equation}\n",
    "\\overbrace{P(A)}^{P(Delay)} = \\overbrace{P(B_1)}^{P(Boeing)} \\cdot P(A|B_1) + \\overbrace{P(B_2)}^{P(Airbus)} \\cdot P(A|B_2) + \\overbrace{P(B_3)}^{P(ERJ)} \\cdot P(A|B_3)\n",
    "\\end{equation}$$"
   ]
  },
  {
   "cell_type": "markdown",
   "metadata": {},
   "source": [
    "**Exercise**\n",
    "\n",
    "\n",
    "An airline transports passengers using three types of planes: a Boeing 737, an Airbus A320, and an ERJ 145.\n",
    "\n",
    "- The Boeing operates 62% of the flights. Out of these flights, 6% arrive at the destination with a delay.\n",
    "- The Airbus operates 35% of the flights. Out of these flights, 9% arrive with a delay.\n",
    "- The ERJ operates the remaining 3% of the flights. Out of these flights, 1% arrive with a delay.\n",
    "Calculate the probability of delay and assign result to `p_delay`. "
   ]
  },
  {
   "cell_type": "code",
   "execution_count": 4,
   "metadata": {},
   "outputs": [
    {
     "name": "stdout",
     "output_type": "stream",
     "text": [
      "0.06899999999999999\n"
     ]
    }
   ],
   "source": [
    "p_boeing = 0.62\n",
    "p_airbus = 0.35\n",
    "p_erj = 0.03\n",
    "p_delay_boeing = 0.06 \n",
    "p_delay_airbus = 0.09\n",
    "p_delay_erj = 0.01\n",
    "\n",
    "p_delay = p_boeing * p_delay_boeing + p_airbus * p_delay_airbus + p_erj * p_delay_erj\n",
    "print(p_delay)"
   ]
  },
  {
   "attachments": {
    "image.png": {
     "image/png": "[encoded data removed]"
    }
   },
   "cell_type": "markdown",
   "metadata": {},
   "source": [
    "### The Law of Total Probability\n",
    "\n",
    "Above we developed a formula to include three events:\n",
    "\n",
    "$$\\begin{equation}\n",
    "P(A) = P(B_1) \\cdot P(A|B_1) + P(B_2) \\cdot P(A|B_2) + P(B_3) \\cdot P(A|B_3)\n",
    "\\end{equation}$$\n",
    "\n",
    "To develop a formula with four events, we can use the same reasoning as we used to develop the formula above. Let's say the sample space Ω is made up of four mutually exclusive and exhaustive events:\n",
    "$$\\begin{equation}\n",
    "\\Omega = \\{B_1, B_2, B_3, B_4\\}\n",
    "\\end{equation}$$\n",
    "\n",
    "Then we can understand event A as the union of the following events:\n",
    "\n",
    "$$\\begin{equation}\n",
    "A = (B_1 \\cap A) \\cup (B_2 \\cap A) \\cup (B_3 \\cap A) \\cup (B_4 \\cap A)\n",
    "\\end{equation}$$\n",
    "\n",
    "![image.png](attachment:image.png)\n",
    "\n",
    "Using the addition rule for mutually exclusive events, we have:\n",
    "\n",
    "$$\\begin{equation}\n",
    "P(A) = P(B_1 \\cap A) + P(B_2 \\cap A) + P(B_3 \\cap A) + P(B_4 \\cap A)\n",
    "\\end{equation}$$\n",
    "\n",
    "Using the multiplication rule, we arrive at:\n",
    "\n",
    "$$\\begin{equation}\n",
    "P(A) = P(B_1) \\cdot P(A|B_1) + P(B_2) \\cdot P(A|B_2) + P(B_3) \\cdot P(A|B_3) + P(B_4) \\cdot P(A|B_4)\n",
    "\\end{equation}$$\n",
    "\n",
    "IF the sample space Ω is made up of n mutually exclusive and exhaustive events:\n",
    "\n",
    "$$\\begin{equation}\n",
    "\\Omega = \\{B_1, B_2, ..., B_n\\}\n",
    "\\end{equation}$$\n",
    "\n",
    "the formula for n events is:\n",
    "\n",
    "$$\\begin{equation}\n",
    "P(A) = P(B_1) \\cdot P(A|B_1) + P(B_2) \\cdot P(A|B_2) + \\dots + P(B_n) \\cdot P(A|B_n)\n",
    "\\end{equation}$$\n",
    "\n",
    "The above formula is called the **law of total probability**.\n",
    "\n",
    "The law of total probability is often rewritten using the summation sign Σ:\n",
    "\n",
    "$$\\begin{equation}\n",
    "P(A) = \\sum_{i = 1}^{n} P(B_i) \\cdot P(A|B_i)\n",
    "\\end{equation}$$"
   ]
  },
  {
   "cell_type": "markdown",
   "metadata": {},
   "source": [
    "### Bayes Theorem\n",
    "\n",
    " Above, we discussed a few examples around plane delays and tried to use the law of total probability to find P(Delay), the probability that a passenger will arrive at her destination with a delay. Once a plane arrived with a delay, however, we might be interested to calculate the probability that it's a Boeing. In other words, what's the probability that the plane is a Boeing given that it arrived with a delay?\n",
    " \n",
    " For example, an airline transports passengers using two types of planes: a Boeing 737 and an Airbus A320.\n",
    "- The Boeing operates 73% of the flights. Out of these flights, 3% arrive at the destination with a delay.\n",
    "- The Airbus operates the remaining 27% of the flights. Out of these flights, 8% arrive with a delay.\n",
    "\n",
    "Let's say a plane did arrive with a delay and we want to find the probability that the plane is a Boeing. In other words, we want to find P(Boeing|Delay). Let's begin by expanding P(Boeing|Delay) using the conditional probability formula:\n",
    "\n",
    "$$\\begin{equation}\n",
    "P(Boeing|Delay) = \\frac{P(Boeing \\cap Delay)}{P(Delay)} = \\frac{P(Boeing) \\cdot P(Delay|Boeing)}{P(Delay)}\n",
    "\\end{equation}$$\n",
    "\n",
    "We already know from the problem statement that P(Boeing)=0.73 and P(Delay|Boeing)=0.03. We don't know the value of P(Delay), but we can find it using the law of total probability:\n",
    "\n",
    "$$\\begin{aligned}\n",
    "P(Delay) &= P(Boeing) \\cdot P(Delay|Boeing) + P(Airbus) \\cdot P(Delay|Airbus) \\\\\n",
    "&= 0.73 \\cdot 0.03 + 0.27 \\cdot 0.08 = 0.0435\n",
    "\\end{aligned}$$\n",
    "\n",
    "$$\\begin{equation}\n",
    "P(Boeing|Delay) = \\frac{0.73 \\cdot 0.03}{0.0435} = 0.5034\n",
    "\\end{equation}$$\n",
    "\n",
    "This is an instance where we applied Bayes' theorem to solve a probability problem. Mathematically, Bayes' theorem can be defined as:\n",
    "\n",
    "$$\\begin{equation}\n",
    "P(B|A) = \\frac{P(B) \\cdot P(A|B)}{\\displaystyle \\sum_{i = 1}^{n} P(B_i) \\cdot P(A|B_i)}\n",
    "\\end{equation}$$\n",
    "\n",
    "Note that we arrived at Bayes' theorem by substituting the law of total probability into the conditional probability formula and expanding the numerator P(B ∩ A) using the multiplication rule:\n",
    "\n",
    "$$\\begin{aligned}\n",
    "\\text{Conditional Probability} &\\implies P(B|A) = \\frac{P(B \\cap A)}{P(A)} \\\\\n",
    "\\text{The Law of Total Probability} &\\implies P(A) = \\sum_{i = 1}^{n} P(B_i) \\cdot P(A|B_i) \\\\\n",
    "\\text{Bayes' Theorem} &\\implies P(B|A) = \\frac{P(B) \\cdot P(A|B)}{\\displaystyle \\sum_{i = 1}^{n} P(B_i) \\cdot P(A|B_i)}\n",
    "\\end{aligned}$$\n",
    "\n",
    "Above, we defined the formulas for P(B|A), but we can also define them for P(A|B):\n",
    "\n",
    "$$\\begin{aligned}\n",
    "\\text{Conditional Probability} &\\implies P(A|B) = \\frac{P(A \\cap B)}{P(B)} \\\\\n",
    "\\text{The Law of Total Probability} &\\implies P(B) = \\sum_{i = 1}^{n} P(A_i) \\cdot P(B|A_i) \\\\\n",
    "\\text{Bayes' Theorem} &\\implies P(A|B) = \\frac{P(A) \\cdot P(B|A)}{\\displaystyle \\sum_{i = 1}^{n} P(A_i) \\cdot P(B|A_i)}\n",
    "\\end{aligned}$$"
   ]
  },
  {
   "cell_type": "markdown",
   "metadata": {},
   "source": [
    "An airline transports passengers using two types of planes: a Boeing 737 and an Airbus A320.\n",
    "\n",
    "- The Boeing operates 73% of the flights. Out of these flights, 3% arrive at the destination with a delay.\n",
    "- The Airbus operates the remaining 27% of the flights. Out of these flights, 8% arrive with a delay.\n",
    "Use Bayes' theorem to find P(Airbus|Delay). Assign answer to `p_airbus_delay`. "
   ]
  },
  {
   "cell_type": "code",
   "execution_count": 5,
   "metadata": {},
   "outputs": [
    {
     "name": "stdout",
     "output_type": "stream",
     "text": [
      "0.4965517241379311\n"
     ]
    }
   ],
   "source": [
    "p_b = 0.73\n",
    "p_bc = 0.27\n",
    "p_a_given_b = 0.03\n",
    "p_a_given_bc = 0.08\n",
    "p_a = (p_b * p_a_given_b) + p_bc * (p_a_given_bc) # Total probability of a\n",
    "\n",
    "# Using Bayes Theorem\n",
    "p_bc_given_a = (p_bc * p_a_given_bc) / p_a \n",
    "p_airbus_delay = p_bc_given_a\n",
    "print(p_airbus_delay)"
   ]
  },
  {
   "cell_type": "markdown",
   "metadata": {},
   "source": [
    "### Prior and Posterior Probability\n",
    "\n",
    "Earlier, we considered an example around HIV testing and saw the following probabilities:\n",
    "\n",
    "- The probability of getting a positive test result given that a patient is infected with HIV is 99.78%. That is P(T+|HIV)=0.9978.\n",
    "- The probability of getting a positive test result given that a patient is not infected with HIV is 1.05%. That is P(T+|HIVC)=0.0105.\n",
    "- The probability of being infected with HIV is 0.14%. That is P(HIV)=0.0014.\n",
    "- The probability of not being infected with HIV is 99.86%. That is P(HIVC)=0.9986.\n",
    "\n",
    "Since P(T+|HIV)=0.9978, it means that 99.78% of the people infected with HIV get a correct diagnosis — they test positive for a virus they actually have.\n",
    "\n",
    "The value of P(T+|HIVC)=0.0105 means 1.05% of the persons who are not infected with HIV get a wrong diagnosis — they test positive for a virus they don't have. All in all, this suggests the test is quite efficient.\n",
    "\n",
    "Now let's say a person comes in for a test and we don't know beforehand whether they have HIV or not. The patient tests positive. One important question we may have now is: Given the positive test result, what's the probability of being infected with HIV? In other words, what is P(HIV|T+)?\n",
    "\n",
    "We can find the answer using Bayes' theorem. Let's begin by expanding P(HIV|T+) using the conditional probability formula:\n",
    "\n",
    "$$\\begin{equation}\n",
    "P(HIV | T^+) = \\frac{P(HIV \\cap T^+)}{P(T^+)} = \\frac{P(HIV) \\cdot P(T^+|HIV)}{P(T^+)}\n",
    "\\end{equation}$$\n",
    "\n",
    "From the problem statement, we know that $P(HIV)=0.00144 and 4P(T+|HIV)=0.9978.$ We don't know the value of P(T+), but we can find it using the law of total probability:\n",
    "\n",
    "$$\\begin{aligned}\n",
    "P(T^+) &= P(HIV) \\cdot P(T^+|HIV) + P(HIV^C) \\cdot P(T^+|HIV^C) \\\\\n",
    "&= 0.0014 \\cdot 0.9978 + 0.9986 \\cdot 0.0105 = 0.0119\n",
    "\\end{aligned}$$\n",
    "\n",
    "We now have all the values we need to calculate P(HIV|T+):\n",
    "$$\\begin{equation}\n",
    "P(HIV | T^+) = \\frac{0.0014 \\cdot 0.9978}{0.0119} = 0.1174\n",
    "\\end{equation}$$\n",
    "\n",
    "We see that if a person tests positive, the probability of being infected with HIV is still pretty low: 11.74%. This low value may be a bit counter-intuitive given the high efficiency of the test. However, the probability is low because P(HIV) — the probability of having HIV — is very low in the first place: 0.14%.\n",
    "\n",
    "Notice, however, that if a person tests positively, the probability of being infected with HIV actually increases a lot. The regular person in the population has a 0.14% chance to be infected with HIV — since P(HIV)=0.0014. But if a person tests positively, the probability of HIV infection increases to 11.74%, which is about 84 times more than the initial probability!\n",
    "$$\\begin{equation}\n",
    "\\frac{P(HIV|T^+)}{P(HIV)} = \\frac{0.1174}{0.0014} = 83.85\n",
    "\\end{equation}$$\n",
    "\n",
    "In the above example, we've considered the probability of being infected with HIV in two scenarios:\n",
    "\n",
    "- Before doing any test: P(HIV)\n",
    "- After testing positive: P(HIV|T+)\n",
    "\n",
    "The probability of being infected with HIV before doing any test is called the **prior probability** (\"prior\" means \"before\"). The probability of being infected with HIV after testing positive is called the **posterior probability** (\"posterior\" means \"after\"). So, in this case, the prior probability is 0.14%, and the posterior probability is 11.74%."
   ]
  },
  {
   "cell_type": "markdown",
   "metadata": {},
   "source": [
    "**Exercise**\n",
    "\n",
    "Many spam emails contain the word \"secret\". However, some emails are not spam even though they contain the word \"secret\". Let's say we know the following probabilities:\n",
    "\n",
    "The probability of getting a spam email is 23.88%. That is P(Spam)=0.2388.\n",
    "The probability of an email containing the word \"secret\" given that the email is spam is 48.02%. That is P(\"secret\"|Spam)=0.4802.\n",
    "The probability of an email containing the word \"secret\" given that the email is not spam is 12.84%. That is P(\"secret\"|SpamC)=0.1284.\n",
    "1. Use Bayes' theorem to find P(Spam|\"secret\"). Assign answer to `p_spam_given_secret`.\n",
    "\n",
    "2. Assign the prior probability of getting a spam email to `prior`.\n",
    "\n",
    "3. Assign the posterior probability of getting a spam email (after we see the email contains the word \"secret\") to `posterior`.\n",
    "\n",
    "4. Calculate the ratio between the posterior and the prior probability — i.e. divide the posterior probability by the prior probability. Assign answer to `ratio`."
   ]
  },
  {
   "cell_type": "code",
   "execution_count": 6,
   "metadata": {},
   "outputs": [
    {
     "name": "stdout",
     "output_type": "stream",
     "text": [
      "0.539860865202855 2.2607238911342336\n"
     ]
    }
   ],
   "source": [
    "p_b = 0.2388\n",
    "p_bc = 1 - 0.2388\n",
    "\n",
    "p_a_given_b = 0.4802\n",
    "p_a_given_bc = 0.1284\n",
    "\n",
    "# calculate total probability of a\n",
    "p_a = (p_b * p_a_given_b) + (p_bc * p_a_given_bc)\n",
    "# Use Bayes Theorem to calculate p_b_given_a\n",
    "p_b_given_a = (p_b * p_a_given_b) / p_a\n",
    "\n",
    "p_spam_given_secret = p_b_given_a\n",
    "prior = p_b\n",
    "posterior = p_spam_given_secret\n",
    "ratio = posterior/prior\n",
    "\n",
    "print(p_spam_given_secret, ratio)"
   ]
  }
 ],
 "metadata": {
  "kernelspec": {
   "display_name": "Python 3",
   "language": "python",
   "name": "python3"
  },
  "language_info": {
   "codemirror_mode": {
    "name": "ipython",
    "version": 3
   },
   "file_extension": ".py",
   "mimetype": "text/x-python",
   "name": "python",
   "nbconvert_exporter": "python",
   "pygments_lexer": "ipython3",
   "version": "3.8.3"
  }
 },
 "nbformat": 4,
 "nbformat_minor": 4
}
